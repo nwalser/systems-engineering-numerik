{
 "cells": [
  {
   "metadata": {},
   "cell_type": "code",
   "outputs": [],
   "execution_count": null,
   "source": "import numpy as np",
   "id": "3301af9e3d30749f"
  },
  {
   "metadata": {},
   "cell_type": "code",
   "outputs": [],
   "execution_count": null,
   "source": [
    "def implicit_trapezoid(x_end, h, x0, y0, f, df):\n",
    "    x = [x0]\n",
    "    y = [y0]\n",
    "\n",
    "    def G(yk1, xk, yk):\n",
    "        return yk1 - (yk + h/2 * (f(xk, yk) + f(xk+h, yk1)))\n",
    "\n",
    "    def dG(yk1, xk, yk):\n",
    "        return 1 - h/2 * (df(xk, yk) + df(xk+h, yk1))\n",
    "\n",
    "    def newton(r, xk, yk, tol=1e-12, max_iter=20):\n",
    "        for k in range(max_iter):\n",
    "            delta = G(r, xk, yk)/dG(r, xk, yk)\n",
    "            r -= delta\n",
    "            if np.abs(delta) < tol:\n",
    "                break\n",
    "        return r\n",
    "\n",
    "    while x[-1] < x_end-h/2:\n",
    "        xk1 = x[-1]+h\n",
    "        yk1 = newton(0, x[-1], y[-1])\n",
    "        x.append(xk1)\n",
    "        y.append(yk1)\n",
    "\n",
    "    return np.array(x), np.array(y)"
   ],
   "id": "initial_id"
  }
 ],
 "metadata": {
  "kernelspec": {
   "display_name": "Python 3",
   "language": "python",
   "name": "python3"
  },
  "language_info": {
   "codemirror_mode": {
    "name": "ipython",
    "version": 2
   },
   "file_extension": ".py",
   "mimetype": "text/x-python",
   "name": "python",
   "nbconvert_exporter": "python",
   "pygments_lexer": "ipython2",
   "version": "2.7.6"
  }
 },
 "nbformat": 4,
 "nbformat_minor": 5
}
