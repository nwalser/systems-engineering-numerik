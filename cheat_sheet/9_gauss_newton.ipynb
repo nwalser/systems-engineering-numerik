{
 "cells": [
  {
   "cell_type": "code",
   "id": "initial_id",
   "metadata": {
    "collapsed": true,
    "ExecuteTime": {
     "end_time": "2024-06-16T10:34:18.949110Z",
     "start_time": "2024-06-16T10:34:18.946131Z"
    }
   },
   "source": [
    "import numpy as np\n",
    "import scipy"
   ],
   "outputs": [],
   "execution_count": 13
  },
  {
   "metadata": {
    "ExecuteTime": {
     "end_time": "2024-06-16T10:34:18.954525Z",
     "start_time": "2024-06-16T10:34:18.950154Z"
    }
   },
   "cell_type": "code",
   "source": [
    "def back_substitution(U, y):\n",
    "    n = U.shape[1]\n",
    "    x = np.zeros_like(y, dtype=np.double)\n",
    "    x[-1] = y[-1] / U[-1, -1]\n",
    "    for i in range(n - 2, -1, -1):\n",
    "        x[i] = (y[i] - np.dot(U[i, i:], x[i:])) / U[i, i]\n",
    "\n",
    "    return x\n",
    "\n",
    "def linsolve_qr(A, b):\n",
    "    num_param = A.shape[1]\n",
    "    q, r = scipy.linalg.qr(A) # Q*R*p = y\n",
    "    return back_substitution(r[0:num_param], (q.T @ b)[0:num_param]) # solve for: R*p = Q.T * y\n",
    "\n",
    "\n",
    "def gauss_newton(f, df, x, tolerance=1e-14, max_step=100):\n",
    "    step = 0\n",
    "    error = np.linalg.norm(f(x))\n",
    "    while error > tolerance and step < max_step:\n",
    "        # print(step, x, error)\n",
    "        x += linsolve_qr(df(x), -f(x))\n",
    "        error = np.linalg.norm(f(x))\n",
    "        step += 1\n",
    "\n",
    "    return x"
   ],
   "id": "20f8544444cb4b9d",
   "outputs": [],
   "execution_count": 14
  },
  {
   "metadata": {
    "ExecuteTime": {
     "end_time": "2024-06-16T10:34:18.962319Z",
     "start_time": "2024-06-16T10:34:18.955523Z"
    }
   },
   "cell_type": "code",
   "source": [
    "# example find minimum of non-linear function\n",
    "p1 = [0, 5]\n",
    "p2 = [4, -1]\n",
    "p3 = [-2, -3]\n",
    "\n",
    "def f(p):\n",
    "    (m, n, r) = p\n",
    "    return np.array([\n",
    "        (p1[0]-m)**2 + (p1[1]-n)**2 - r**2,\n",
    "        (p2[0]-m)**2 + (p2[1]-n)**2 - r**2,\n",
    "        (p3[0]-m)**2 + (p3[1]-n)**2 - r**2,\n",
    "    ])\n",
    "\n",
    "def df(p):\n",
    "    (m, n, r) = p\n",
    "    return np.array([\n",
    "        [2 * (m - p1[0]), 2 * (n - p1[1]), -2 * r],\n",
    "        [2 * (m - p2[0]), 2 * (n - p2[1]), -2 * r],\n",
    "        [2 * (m - p3[0]), 2 * (n - p3[1]), -2 * r],\n",
    "    ])\n",
    "\n",
    "# search for m, n, R\n",
    "initial_guess = np.array([1, 1, 1], dtype=np.float64)\n",
    "\n",
    "(m, n, r) = gauss_newton(f, df, initial_guess)\n",
    "print((m, n, r))"
   ],
   "id": "e1291b22181faf18",
   "outputs": [
    {
     "name": "stdout",
     "output_type": "stream",
     "text": [
      "(0.0909090909090908, 0.7272727272727272, 4.273694281288421)\n"
     ]
    }
   ],
   "execution_count": 15
  }
 ],
 "metadata": {
  "kernelspec": {
   "display_name": "Python 3",
   "language": "python",
   "name": "python3"
  },
  "language_info": {
   "codemirror_mode": {
    "name": "ipython",
    "version": 2
   },
   "file_extension": ".py",
   "mimetype": "text/x-python",
   "name": "python",
   "nbconvert_exporter": "python",
   "pygments_lexer": "ipython2",
   "version": "2.7.6"
  }
 },
 "nbformat": 4,
 "nbformat_minor": 5
}
