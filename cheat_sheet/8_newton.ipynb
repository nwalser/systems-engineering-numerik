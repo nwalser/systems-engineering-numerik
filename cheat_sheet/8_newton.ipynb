{
 "cells": [
  {
   "metadata": {},
   "cell_type": "code",
   "outputs": [],
   "execution_count": null,
   "source": "import math",
   "id": "e39241158ae00e79"
  },
  {
   "metadata": {},
   "cell_type": "code",
   "outputs": [],
   "execution_count": null,
   "source": [
    "def newton(f, df, x, tolerance=1e-14, max_step=100):\n",
    "    step = 0\n",
    "    error = math.fabs(f(x))\n",
    "    while error > tolerance and step < max_step:\n",
    "        # print(step, x, error)\n",
    "        x += f(x)/df(x)\n",
    "        error = math.fabs(f(x))\n",
    "        step += 1\n",
    "\n",
    "    return x"
   ],
   "id": "d6321284f53f29a2"
  }
 ],
 "metadata": {
  "kernelspec": {
   "display_name": "Python 3",
   "language": "python",
   "name": "python3"
  },
  "language_info": {
   "codemirror_mode": {
    "name": "ipython",
    "version": 2
   },
   "file_extension": ".py",
   "mimetype": "text/x-python",
   "name": "python",
   "nbconvert_exporter": "python",
   "pygments_lexer": "ipython2",
   "version": "2.7.6"
  }
 },
 "nbformat": 4,
 "nbformat_minor": 5
}
