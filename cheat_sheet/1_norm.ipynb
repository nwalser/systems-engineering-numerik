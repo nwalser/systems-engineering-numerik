{
 "cells": [
  {
   "metadata": {},
   "cell_type": "markdown",
   "source": [
    "# Norms\n",
    "\n",
    "## 1 Norm\n",
    "![title](img/i1.png)\n",
    "\n",
    "## Frobenius Norm\n",
    "![title](img/i2.png)\n",
    "\n",
    "## Infinity Norm\n",
    "![title](img/i3.png)"
   ],
   "id": "cdfe5180fd0d7675"
  },
  {
   "metadata": {
    "ExecuteTime": {
     "end_time": "2024-06-15T09:30:23.344572Z",
     "start_time": "2024-06-15T09:30:23.214079Z"
    }
   },
   "cell_type": "code",
   "source": "import numpy as np",
   "id": "3c87ed378c5488e0",
   "outputs": [],
   "execution_count": 1
  },
  {
   "metadata": {
    "ExecuteTime": {
     "end_time": "2024-06-15T09:30:23.353020Z",
     "start_time": "2024-06-15T09:30:23.344572Z"
    }
   },
   "cell_type": "code",
   "source": [
    "A = np.array([[1, 0],\n",
    "              [1, 1]])\n",
    "\n",
    "first_norm = np.linalg.norm(A, 1) # 1 norm\n",
    "frobenius_norm = np.linalg.norm(A, 'fro') # frobenius norm\n",
    "infinity_norm = np.linalg.norm(A, np.inf) # infinity norm\n",
    "\n",
    "print(first_norm)\n",
    "print(frobenius_norm)\n",
    "print(infinity_norm)"
   ],
   "id": "initial_id",
   "outputs": [
    {
     "data": {
      "text/plain": [
       "2.0"
      ]
     },
     "execution_count": 2,
     "metadata": {},
     "output_type": "execute_result"
    }
   ],
   "execution_count": 2
  }
 ],
 "metadata": {
  "kernelspec": {
   "display_name": "Python 3",
   "language": "python",
   "name": "python3"
  },
  "language_info": {
   "codemirror_mode": {
    "name": "ipython",
    "version": 2
   },
   "file_extension": ".py",
   "mimetype": "text/x-python",
   "name": "python",
   "nbconvert_exporter": "python",
   "pygments_lexer": "ipython2",
   "version": "2.7.6"
  }
 },
 "nbformat": 4,
 "nbformat_minor": 5
}
