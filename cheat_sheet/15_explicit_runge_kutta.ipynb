{
 "cells": [
  {
   "metadata": {
    "ExecuteTime": {
     "end_time": "2024-06-16T12:05:28.288501Z",
     "start_time": "2024-06-16T12:05:28.238760Z"
    }
   },
   "cell_type": "code",
   "source": "import numpy as np",
   "id": "572e831b9c2ee859",
   "outputs": [],
   "execution_count": 1
  },
  {
   "metadata": {
    "ExecuteTime": {
     "end_time": "2024-06-16T12:05:28.292758Z",
     "start_time": "2024-06-16T12:05:28.288875Z"
    }
   },
   "cell_type": "code",
   "source": [
    "def explicit_runge_kutta(x_end, h, x0, y0, f):\n",
    "    xs = np.arange(x0, x_end + 1/2 * h, h, dtype=float)\n",
    "    ys = np.zeros((len(xs), len(y0)), dtype=float)\n",
    "    ys[0] = y0\n",
    "\n",
    "    for i, x in enumerate(xs[:-1]):\n",
    "        y = ys[i]\n",
    "        r1 = f(x, y)\n",
    "        r2 = f(x+1/2*h, y+1/2*r1*h)\n",
    "        r3 = f(x+1/2*h, y+1/2*r2*h)\n",
    "        r4 = f(x+1*h, y+1*r3*h)\n",
    "        r = 1/6*r1 + 2/6 * r2 + 2/6 * r3 + 1/6 * r4\n",
    "        ys[i+1] = y + r * h\n",
    "\n",
    "    return np.array(xs), np.array(ys)"
   ],
   "id": "initial_id",
   "outputs": [],
   "execution_count": 2
  }
 ],
 "metadata": {
  "kernelspec": {
   "display_name": "Python 3",
   "language": "python",
   "name": "python3"
  },
  "language_info": {
   "codemirror_mode": {
    "name": "ipython",
    "version": 2
   },
   "file_extension": ".py",
   "mimetype": "text/x-python",
   "name": "python",
   "nbconvert_exporter": "python",
   "pygments_lexer": "ipython2",
   "version": "2.7.6"
  }
 },
 "nbformat": 4,
 "nbformat_minor": 5
}
