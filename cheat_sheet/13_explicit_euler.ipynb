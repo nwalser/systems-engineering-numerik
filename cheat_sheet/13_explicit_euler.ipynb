{
 "cells": [
  {
   "metadata": {
    "ExecuteTime": {
     "end_time": "2024-06-16T12:03:07.354878Z",
     "start_time": "2024-06-16T12:03:07.247844Z"
    }
   },
   "cell_type": "code",
   "source": "import numpy as np",
   "id": "d7ba7cadd416265f",
   "outputs": [],
   "execution_count": 1
  },
  {
   "cell_type": "code",
   "id": "initial_id",
   "metadata": {
    "collapsed": true,
    "ExecuteTime": {
     "end_time": "2024-06-16T12:03:07.359731Z",
     "start_time": "2024-06-16T12:03:07.354878Z"
    }
   },
   "source": [
    "def explicit_euler(x_end, h, x0, y0, f):\n",
    "    xs = np.arange(x0, x_end + 1/2 * h, h, dtype=float)\n",
    "    ys = np.zeros_like(xs, dtype=float)\n",
    "    ys[0] = y0\n",
    "\n",
    "    for i, x in enumerate(xs[:-1]):\n",
    "        y = ys[i]\n",
    "        r1 = f(x, y)\n",
    "        r = r1\n",
    "        ys[i+1] = y + r * h\n",
    "\n",
    "    return np.array(xs), np.array(ys)"
   ],
   "outputs": [],
   "execution_count": 2
  }
 ],
 "metadata": {
  "kernelspec": {
   "display_name": "Python 3",
   "language": "python",
   "name": "python3"
  },
  "language_info": {
   "codemirror_mode": {
    "name": "ipython",
    "version": 2
   },
   "file_extension": ".py",
   "mimetype": "text/x-python",
   "name": "python",
   "nbconvert_exporter": "python",
   "pygments_lexer": "ipython2",
   "version": "2.7.6"
  }
 },
 "nbformat": 4,
 "nbformat_minor": 5
}
