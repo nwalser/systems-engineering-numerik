{
 "cells": [
  {
   "metadata": {},
   "cell_type": "markdown",
   "source": [
    "# Fehlerrechnung\n",
    "## Relativer Fehler\n",
    "![title](img/d1_1_0.png)\n",
    "![title](img/d1_1_1.png)\n",
    "\n",
    "\n",
    "## Relative Konditionszahl\n",
    "![title](img/d1_3_0.png)"
   ],
   "id": "aa0a2653ce42c58d"
  },
  {
   "metadata": {},
   "cell_type": "code",
   "outputs": [],
   "execution_count": null,
   "source": "",
   "id": "3907346755bcf87a"
  }
 ],
 "metadata": {
  "kernelspec": {
   "display_name": "Python 3",
   "language": "python",
   "name": "python3"
  },
  "language_info": {
   "codemirror_mode": {
    "name": "ipython",
    "version": 2
   },
   "file_extension": ".py",
   "mimetype": "text/x-python",
   "name": "python",
   "nbconvert_exporter": "python",
   "pygments_lexer": "ipython2",
   "version": "2.7.6"
  }
 },
 "nbformat": 4,
 "nbformat_minor": 5
}
