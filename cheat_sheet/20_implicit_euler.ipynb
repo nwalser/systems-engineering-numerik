{
 "cells": [
  {
   "metadata": {},
   "cell_type": "code",
   "outputs": [],
   "execution_count": null,
   "source": "import numpy as np",
   "id": "2a9fba03564869f"
  },
  {
   "metadata": {},
   "cell_type": "code",
   "outputs": [],
   "execution_count": null,
   "source": [
    "def implicit_euler(x_end, h, x0, y0, f, df):\n",
    "    x = [x0]\n",
    "    y = [y0]\n",
    "\n",
    "    def G(s, xk, yk):\n",
    "        return s - yk - h * f(xk, s)\n",
    "\n",
    "    def dG(s, xk, yk):\n",
    "        return 1 - h * df(xk, s)\n",
    "\n",
    "    def newton(s, xk, yk, tol=1e-12, max_iter=20):\n",
    "        for k in range(max_iter):\n",
    "            delta = G(s, xk, yk)/dG(s, xk, yk)\n",
    "            s -= delta\n",
    "            if np.abs(delta) < tol:\n",
    "                break\n",
    "        return s\n",
    "\n",
    "    while x[-1] < x_end-h/2:\n",
    "        y.append(newton(y[-1], x[-1], y[-1]))\n",
    "        x.append(x[-1]+h)\n",
    "\n",
    "    return np.array(x), np.array(y)"
   ],
   "id": "initial_id"
  }
 ],
 "metadata": {
  "kernelspec": {
   "display_name": "Python 3",
   "language": "python",
   "name": "python3"
  },
  "language_info": {
   "codemirror_mode": {
    "name": "ipython",
    "version": 2
   },
   "file_extension": ".py",
   "mimetype": "text/x-python",
   "name": "python",
   "nbconvert_exporter": "python",
   "pygments_lexer": "ipython2",
   "version": "2.7.6"
  }
 },
 "nbformat": 4,
 "nbformat_minor": 5
}
