{
 "cells": [
  {
   "metadata": {},
   "cell_type": "code",
   "outputs": [],
   "execution_count": null,
   "source": "import numpy as np",
   "id": "ead8ac50af4b31b9"
  },
  {
   "cell_type": "code",
   "execution_count": null,
   "id": "initial_id",
   "metadata": {
    "collapsed": true
   },
   "outputs": [],
   "source": [
    "def explicit_runge(x_end, h, x0, y0, f):\n",
    "    xs = np.arange(x0, x_end + 1/2 * h, h, dtype=float)\n",
    "    ys = np.zeros_like(xs, dtype=float)\n",
    "    ys[0] = y0\n",
    "\n",
    "    for i, x in enumerate(xs[:-1]):\n",
    "        y = ys[i]\n",
    "        r1 = f(x, y)\n",
    "        r2 = f(x+1/2*h, y+1/2*r1*h)\n",
    "        r = 0*r1 + 1 * r2\n",
    "        ys[i+1] = y + r * h\n",
    "\n",
    "    return np.array(xs), np.array(ys)"
   ]
  }
 ],
 "metadata": {
  "kernelspec": {
   "display_name": "Python 3",
   "language": "python",
   "name": "python3"
  },
  "language_info": {
   "codemirror_mode": {
    "name": "ipython",
    "version": 2
   },
   "file_extension": ".py",
   "mimetype": "text/x-python",
   "name": "python",
   "nbconvert_exporter": "python",
   "pygments_lexer": "ipython2",
   "version": "2.7.6"
  }
 },
 "nbformat": 4,
 "nbformat_minor": 5
}
