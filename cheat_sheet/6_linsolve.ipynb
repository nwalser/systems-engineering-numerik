{
 "cells": [
  {
   "metadata": {
    "ExecuteTime": {
     "end_time": "2024-06-15T10:49:08.279636Z",
     "start_time": "2024-06-15T10:49:08.275177Z"
    }
   },
   "cell_type": "code",
   "source": [
    "import numpy as np\n",
    "import numpy.linalg\n",
    "import scipy.linalg"
   ],
   "id": "448c254f5483b4b8",
   "outputs": [],
   "execution_count": 164
  },
  {
   "metadata": {},
   "cell_type": "markdown",
   "source": "## Linsolve Exact with LU",
   "id": "56c3290311df8125"
  },
  {
   "metadata": {
    "ExecuteTime": {
     "end_time": "2024-06-15T10:49:08.340286Z",
     "start_time": "2024-06-15T10:49:08.313751Z"
    }
   },
   "cell_type": "code",
   "source": [
    "def lu(A):\n",
    "    (rows, columns) = A.shape\n",
    "    L = np.eye(rows)  # Identity matrix for L\n",
    "    U = A.copy()      # Copy of A for U\n",
    "\n",
    "    for row in range(rows-1):\n",
    "        for i in range(row+1, rows):\n",
    "            scalar = U[i, row] / U[row, row]\n",
    "            U[i, row:columns] -= U[row, row:columns] * scalar\n",
    "            L[i, row] = scalar\n",
    "\n",
    "    return L, U\n",
    "\n",
    "def forward_backward_substitution(L, U, b):\n",
    "    (rows, columns) = L.shape\n",
    "\n",
    "    # solve LZ = b\n",
    "    z = np.zeros(rows)\n",
    "    for row in range(rows):\n",
    "        z[row] = b[row] - np.dot(L[row, :row], z[:row])\n",
    "\n",
    "    # solve UX = Z\n",
    "    x = np.zeros(rows)\n",
    "    for row in reversed(range(rows)):\n",
    "        x[row] = (z[row] - np.dot(U[row, row+1:], x[row+1:])) / U[row, row]\n",
    "\n",
    "    return x\n",
    "\n",
    "# solves Ax = b for x\n",
    "def lu_linsolve(A, b):\n",
    "    L, U = lu(A)\n",
    "    return forward_backward_substitution(L, U, b)\n",
    "\n",
    "\n",
    "#test linsolve\n",
    "n = 4\n",
    "for k in range(1000):\n",
    "    A = np.random.rand(n,n)\n",
    "    rhs = np.random.rand(n)\n",
    "    x = lu_linsolve(A.copy(), rhs)\n",
    "    assert( np.linalg.norm(rhs - A @ x) < 1e-10)"
   ],
   "id": "49dbc87b1d4f3fe8",
   "outputs": [],
   "execution_count": 165
  },
  {
   "metadata": {},
   "cell_type": "markdown",
   "source": "## Linsolve Least Squares with Cholesky",
   "id": "732572fdc8a029f"
  },
  {
   "metadata": {
    "ExecuteTime": {
     "end_time": "2024-06-15T10:49:08.345535Z",
     "start_time": "2024-06-15T10:49:08.340286Z"
    }
   },
   "cell_type": "code",
   "source": [
    "def cholesky_linsolve(A, b):\n",
    "    L = np.linalg.cholesky(A.T @ A)\n",
    "    x = scipy.linalg.solve_triangular(L, A.T @ b, lower=True)\n",
    "    return scipy.linalg.solve_triangular(L.T, x, lower=False)\n",
    "\n",
    "x = np.array([5000, 6000])\n",
    "y = np.array([100, 110])\n",
    "\n",
    "# create matrix for model function (e.g.): y = p1 + p2 * x\n",
    "A = np.vstack((np.ones_like(x), x)).T\n",
    "p1, p2 = cholesky_linsolve(A, y)\n",
    "print((p1, p2))"
   ],
   "id": "e19f45b8d4d4cf74",
   "outputs": [
    {
     "name": "stdout",
     "output_type": "stream",
     "text": [
      "(49.99999999999906, 0.010000000000000168)\n"
     ]
    }
   ],
   "execution_count": 166
  },
  {
   "metadata": {},
   "cell_type": "markdown",
   "source": "## Linsolve Least Squares with QR",
   "id": "65809efc322b7f44"
  },
  {
   "metadata": {
    "ExecuteTime": {
     "end_time": "2024-06-15T10:49:08.351001Z",
     "start_time": "2024-06-15T10:49:08.345535Z"
    }
   },
   "cell_type": "code",
   "source": [
    "def back_substitution(U, y):\n",
    "    n = U.shape[1]\n",
    "    x = np.zeros_like(y, dtype=np.double)\n",
    "    x[-1] = y[-1] / U[-1, -1]\n",
    "    for i in range(n - 2, -1, -1):\n",
    "        x[i] = (y[i] - np.dot(U[i, i:], x[i:])) / U[i, i]\n",
    "\n",
    "    return x\n",
    "\n",
    "def linsolve_lstsq(A, b):\n",
    "    num_param = A.shape[1]\n",
    "    q, r = scipy.linalg.qr(A) # Q*R*p = y\n",
    "    return back_substitution(r[0:num_param], (q.T @ b)[0:num_param]) # solve for: R*p = Q.T * y"
   ],
   "id": "a217389150a178d7",
   "outputs": [],
   "execution_count": 167
  },
  {
   "metadata": {
    "ExecuteTime": {
     "end_time": "2024-06-15T10:49:08.356260Z",
     "start_time": "2024-06-15T10:49:08.351001Z"
    }
   },
   "cell_type": "code",
   "source": [
    "x = np.array([5000, 6000])\n",
    "y = np.array([100, 110])\n",
    "\n",
    "# create matrix for model function (e.g.): y = p1 + p2 * x\n",
    "A = np.vstack((np.ones_like(x), x)).T\n",
    "p1, p2 = linsolve_lstsq(A, y)\n",
    "print((p1, p2))"
   ],
   "id": "1b1d55efd29ecdd0",
   "outputs": [
    {
     "name": "stdout",
     "output_type": "stream",
     "text": [
      "(50.00000000000003, 0.00999999999999999)\n"
     ]
    }
   ],
   "execution_count": 168
  }
 ],
 "metadata": {
  "kernelspec": {
   "display_name": "Python 3",
   "language": "python",
   "name": "python3"
  },
  "language_info": {
   "codemirror_mode": {
    "name": "ipython",
    "version": 2
   },
   "file_extension": ".py",
   "mimetype": "text/x-python",
   "name": "python",
   "nbconvert_exporter": "python",
   "pygments_lexer": "ipython2",
   "version": "2.7.6"
  }
 },
 "nbformat": 4,
 "nbformat_minor": 5
}
