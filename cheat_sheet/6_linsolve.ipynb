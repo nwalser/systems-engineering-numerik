{
 "cells": [
  {
   "metadata": {
    "ExecuteTime": {
     "end_time": "2024-06-15T09:58:40.119183Z",
     "start_time": "2024-06-15T09:58:40.115321Z"
    }
   },
   "cell_type": "code",
   "source": [
    "import numpy as np\n",
    "import numpy.linalg\n",
    "import scipy.linalg"
   ],
   "id": "448c254f5483b4b8",
   "outputs": [],
   "execution_count": 29
  },
  {
   "metadata": {},
   "cell_type": "markdown",
   "source": "## Linsolve Exact with LR\n",
   "id": "56c3290311df8125"
  },
  {
   "metadata": {},
   "cell_type": "markdown",
   "source": "## Linsolve Least Squares with QR",
   "id": "65809efc322b7f44"
  },
  {
   "metadata": {
    "ExecuteTime": {
     "end_time": "2024-06-15T09:58:40.139778Z",
     "start_time": "2024-06-15T09:58:40.134246Z"
    }
   },
   "cell_type": "code",
   "source": [
    "def back_substitution(U, y):\n",
    "    n = U.shape[1]\n",
    "    x = np.zeros_like(y, dtype=np.double)\n",
    "    x[-1] = y[-1] / U[-1, -1]\n",
    "    for i in range(n - 2, -1, -1):\n",
    "        x[i] = (y[i] - np.dot(U[i, i:], x[i:])) / U[i, i]\n",
    "\n",
    "    return x"
   ],
   "id": "a217389150a178d7",
   "outputs": [],
   "execution_count": 30
  },
  {
   "metadata": {
    "ExecuteTime": {
     "end_time": "2024-06-15T09:58:40.146662Z",
     "start_time": "2024-06-15T09:58:40.139778Z"
    }
   },
   "cell_type": "code",
   "source": [
    "x = np.array([5000, 6000])\n",
    "y = np.array([100, 110])\n",
    "\n",
    "# create matrix for model function (e.g.): y = p1 + p2 * x\n",
    "A = np.vstack((np.ones_like(x), x)).T\n",
    "\n",
    "num_param = A.shape[1]\n",
    "q, r = scipy.linalg.qr(A) # Q*R*p = y\n",
    "parameters = back_substitution(r[0:num_param], (q.T @ y)[0:num_param]) # solve for: R*p = Q.T * y\n",
    "p1, p2 = parameters\n",
    "print(parameters)"
   ],
   "id": "1b1d55efd29ecdd0",
   "outputs": [
    {
     "name": "stdout",
     "output_type": "stream",
     "text": [
      "[5.e+01 1.e-02]\n"
     ]
    }
   ],
   "execution_count": 31
  },
  {
   "metadata": {},
   "cell_type": "markdown",
   "source": "## Linsolve Least Squares with Cholesky",
   "id": "732572fdc8a029f"
  },
  {
   "metadata": {
    "ExecuteTime": {
     "end_time": "2024-06-15T09:58:40.152759Z",
     "start_time": "2024-06-15T09:58:40.146662Z"
    }
   },
   "cell_type": "code",
   "source": [
    "t = np.array([0.00, 0.03, 0.05, 0.08, 0.10])\n",
    "u = np.array([5.0, 2.94, 1.73, 1.01, 0.6])\n",
    "\n",
    "S = np.array([np.ones_like(t), -t/100]).T\n",
    "\n",
    "A = S.T@S\n",
    "b = S.T@(np.log(u))\n",
    "L = numpy.linalg.cholesky(A)\n",
    "p = scipy.linalg.solve_triangular(L, b, lower=True) / np.diag(L)\n",
    "print(p)"
   ],
   "id": "e19f45b8d4d4cf74",
   "outputs": [
    {
     "name": "stdout",
     "output_type": "stream",
     "text": [
      "[5.47018722e-01 2.11390200e+03]\n"
     ]
    }
   ],
   "execution_count": 32
  }
 ],
 "metadata": {
  "kernelspec": {
   "display_name": "Python 3",
   "language": "python",
   "name": "python3"
  },
  "language_info": {
   "codemirror_mode": {
    "name": "ipython",
    "version": 2
   },
   "file_extension": ".py",
   "mimetype": "text/x-python",
   "name": "python",
   "nbconvert_exporter": "python",
   "pygments_lexer": "ipython2",
   "version": "2.7.6"
  }
 },
 "nbformat": 4,
 "nbformat_minor": 5
}
