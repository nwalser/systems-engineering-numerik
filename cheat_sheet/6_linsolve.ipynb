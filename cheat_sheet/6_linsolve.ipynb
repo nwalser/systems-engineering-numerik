{
 "cells": [
  {
   "metadata": {
    "ExecuteTime": {
     "end_time": "2024-06-15T10:43:23.759450Z",
     "start_time": "2024-06-15T10:43:23.755467Z"
    }
   },
   "cell_type": "code",
   "source": [
    "import numpy as np\n",
    "import numpy.linalg\n",
    "import scipy.linalg"
   ],
   "id": "448c254f5483b4b8",
   "outputs": [],
   "execution_count": 139
  },
  {
   "metadata": {},
   "cell_type": "markdown",
   "source": "## Linsolve Exact with LU",
   "id": "56c3290311df8125"
  },
  {
   "metadata": {
    "ExecuteTime": {
     "end_time": "2024-06-15T10:43:23.794392Z",
     "start_time": "2024-06-15T10:43:23.759450Z"
    }
   },
   "cell_type": "code",
   "source": [
    "def lu(A):\n",
    "    (rows, columns) = A.shape\n",
    "    L = np.eye(rows)  # Identity matrix for L\n",
    "    U = A.copy()      # Copy of A for U\n",
    "\n",
    "    for row in range(rows-1):\n",
    "        for i in range(row+1, rows):\n",
    "            scalar = U[i, row] / U[row, row]\n",
    "            U[i, row:columns] -= U[row, row:columns] * scalar\n",
    "            L[i, row] = scalar\n",
    "\n",
    "    return L, U\n",
    "\n",
    "def forward_backward_substitution(L, U, b):\n",
    "    (rows, columns) = L.shape\n",
    "\n",
    "    # solve LZ = b\n",
    "    z = np.zeros(rows)\n",
    "    for row in range(rows):\n",
    "        z[row] = b[row] - np.dot(L[row, :row], z[:row])\n",
    "\n",
    "    # solve UX = Z\n",
    "    x = np.zeros(rows)\n",
    "    for row in reversed(range(rows)):\n",
    "        x[row] = (z[row] - np.dot(U[row, row+1:], x[row+1:])) / U[row, row]\n",
    "\n",
    "    return x\n",
    "\n",
    "# solves Ax = b for x\n",
    "def lu_linsolve(A, b):\n",
    "    L, U = lu(A)\n",
    "    return forward_backward_substitution(L, U, b)\n",
    "\n",
    "\n",
    "#test linsolve\n",
    "n = 4\n",
    "for k in range(1000):\n",
    "    A = np.random.rand(n,n)\n",
    "    rhs = np.random.rand(n)\n",
    "    x = lu_linsolve(A.copy(), rhs)\n",
    "    assert( np.linalg.norm(rhs - A @ x) < 1e-10)"
   ],
   "id": "49dbc87b1d4f3fe8",
   "outputs": [],
   "execution_count": 140
  },
  {
   "metadata": {},
   "cell_type": "markdown",
   "source": "## Linsolve Exact with Cholesky",
   "id": "732572fdc8a029f"
  },
  {
   "metadata": {
    "ExecuteTime": {
     "end_time": "2024-06-15T10:43:23.800890Z",
     "start_time": "2024-06-15T10:43:23.794785Z"
    }
   },
   "cell_type": "code",
   "source": [
    "def cholesky_linsolve(A, b):\n",
    "    ATA = A.T@A\n",
    "    c = A.T@b\n",
    "    L = numpy.linalg.cholesky(ATA)\n",
    "    return scipy.linalg.solve_triangular(L, c, lower=True) / np.diag(L)\n",
    "\n",
    "\n",
    "t = np.array([0.00, 0.03, 0.05, 0.08, 0.10])\n",
    "u = np.array([5.0, 2.94, 1.73, 1.01, 0.6])\n",
    "\n",
    "A = np.array([np.ones_like(t), -t/100]).T\n",
    "p = cholesky_linsolve(A, np.log(u))\n",
    "\n",
    "print(p)"
   ],
   "id": "e19f45b8d4d4cf74",
   "outputs": [
    {
     "name": "stdout",
     "output_type": "stream",
     "text": [
      "[5.47018722e-01 2.11390200e+03]\n"
     ]
    }
   ],
   "execution_count": 141
  },
  {
   "metadata": {},
   "cell_type": "markdown",
   "source": "## Linsolve Least Squares with QR",
   "id": "65809efc322b7f44"
  },
  {
   "metadata": {
    "ExecuteTime": {
     "end_time": "2024-06-15T10:43:23.806709Z",
     "start_time": "2024-06-15T10:43:23.800890Z"
    }
   },
   "cell_type": "code",
   "source": [
    "def back_substitution(U, y):\n",
    "    n = U.shape[1]\n",
    "    x = np.zeros_like(y, dtype=np.double)\n",
    "    x[-1] = y[-1] / U[-1, -1]\n",
    "    for i in range(n - 2, -1, -1):\n",
    "        x[i] = (y[i] - np.dot(U[i, i:], x[i:])) / U[i, i]\n",
    "\n",
    "    return x\n",
    "\n",
    "def linsolve_lstsq(A, b):\n",
    "    num_param = A.shape[1]\n",
    "    q, r = scipy.linalg.qr(A) # Q*R*p = y\n",
    "    return back_substitution(r[0:num_param], (q.T @ b)[0:num_param]) # solve for: R*p = Q.T * y"
   ],
   "id": "a217389150a178d7",
   "outputs": [],
   "execution_count": 142
  },
  {
   "metadata": {
    "ExecuteTime": {
     "end_time": "2024-06-15T10:43:23.814814Z",
     "start_time": "2024-06-15T10:43:23.806709Z"
    }
   },
   "cell_type": "code",
   "source": [
    "x = np.array([5000, 6000])\n",
    "y = np.array([100, 110])\n",
    "\n",
    "# create matrix for model function (e.g.): y = p1 + p2 * x\n",
    "A = np.vstack((np.ones_like(x), x)).T\n",
    "p1, p2 = linsolve_lstsq(A, y)\n",
    "print((p1, p2))"
   ],
   "id": "1b1d55efd29ecdd0",
   "outputs": [
    {
     "name": "stdout",
     "output_type": "stream",
     "text": [
      "(50.00000000000003, 0.00999999999999999)\n"
     ]
    }
   ],
   "execution_count": 143
  }
 ],
 "metadata": {
  "kernelspec": {
   "display_name": "Python 3",
   "language": "python",
   "name": "python3"
  },
  "language_info": {
   "codemirror_mode": {
    "name": "ipython",
    "version": 2
   },
   "file_extension": ".py",
   "mimetype": "text/x-python",
   "name": "python",
   "nbconvert_exporter": "python",
   "pygments_lexer": "ipython2",
   "version": "2.7.6"
  }
 },
 "nbformat": 4,
 "nbformat_minor": 5
}
