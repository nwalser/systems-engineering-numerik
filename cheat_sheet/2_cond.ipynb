{
 "cells": [
  {
   "metadata": {},
   "cell_type": "markdown",
   "source": [
    "# Konditionszahl\n",
    "## Absolute\n",
    "![title](img/i4.png)\n",
    "\n",
    "## Relative\n",
    "![title](img/d2_4_0.png)\n"
   ],
   "id": "2486acca775bbb92"
  },
  {
   "metadata": {
    "ExecuteTime": {
     "end_time": "2024-06-15T09:31:03.601822Z",
     "start_time": "2024-06-15T09:31:03.599570Z"
    }
   },
   "cell_type": "code",
   "source": "import numpy as np",
   "id": "c18b3cf876d15a56",
   "outputs": [],
   "execution_count": 5
  },
  {
   "metadata": {
    "ExecuteTime": {
     "end_time": "2024-06-15T09:31:03.605712Z",
     "start_time": "2024-06-15T09:31:03.601822Z"
    }
   },
   "cell_type": "code",
   "source": [
    "A = np.array([[1, 0],\n",
    "              [1, 1]])\n",
    "\n",
    "cond_first = np.linalg.cond(A, 1) # with first norm\n",
    "cond_frobenius = np.linalg.cond(A, 'fro') # with frobenius norm\n",
    "cond_inf = np.linalg.cond(A, np.inf) # with infinity norm\n",
    "\n",
    "print(cond_first)\n",
    "print(cond_frobenius)\n",
    "print(cond_inf)"
   ],
   "id": "78608c0c655fd294",
   "outputs": [
    {
     "name": "stdout",
     "output_type": "stream",
     "text": [
      "4.0\n",
      "2.9999999999999996\n",
      "4.0\n"
     ]
    }
   ],
   "execution_count": 6
  }
 ],
 "metadata": {
  "kernelspec": {
   "display_name": "Python 3",
   "language": "python",
   "name": "python3"
  },
  "language_info": {
   "codemirror_mode": {
    "name": "ipython",
    "version": 2
   },
   "file_extension": ".py",
   "mimetype": "text/x-python",
   "name": "python",
   "nbconvert_exporter": "python",
   "pygments_lexer": "ipython2",
   "version": "2.7.6"
  }
 },
 "nbformat": 4,
 "nbformat_minor": 5
}
