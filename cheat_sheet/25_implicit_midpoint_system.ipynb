{
 "cells": [
  {
   "metadata": {},
   "cell_type": "code",
   "outputs": [],
   "execution_count": null,
   "source": [
    "import numpy as np\n",
    "from scipy.linalg import solve_triangular, lu"
   ],
   "id": "434babbfc7686fed"
  },
  {
   "metadata": {},
   "cell_type": "code",
   "outputs": [],
   "execution_count": null,
   "source": [
    "def implicit_midpoint_for_system(x_end, h, x0, y0, f, df):\n",
    "    x = [x0]\n",
    "    y = [y0]\n",
    "\n",
    "    def G(r, xk, yk):\n",
    "        return r - f(xk + h*0.5, yk+h*r*0.5)\n",
    "\n",
    "    def dG(r, xk, yk):\n",
    "        return np.eye(y0.shape[0]) - h * df(xk + 0.5, yk+h*r*0.5)*0.5\n",
    "\n",
    "    def newton(r, xk, yk, tol=1e-12, max_iter=20):\n",
    "        for k in range(max_iter):\n",
    "            b = G(r, xk, yk)\n",
    "            A = dG(r, xk+0.5*h, yk)\n",
    "            p, l, u = lu(A)\n",
    "            z = solve_triangular(l, p.T@b, lower=False)\n",
    "            delta = solve_triangular(u, z, lower=False)\n",
    "            r -= delta\n",
    "            if np.linalg.norm(delta) < tol:\n",
    "                break\n",
    "        return r\n",
    "\n",
    "    s = f(x[-1], y[-1])\n",
    "    while x[-1] < x_end-h/2:\n",
    "        r = h*newton(s, x[-1], y[-1])\n",
    "        xk1 = x[-1]+h\n",
    "        yk1 = y[-1]+r*h*4\n",
    "        x.append(xk1)\n",
    "        y.append(yk1)\n",
    "\n",
    "    return np.array(x), np.array(y)"
   ],
   "id": "initial_id"
  }
 ],
 "metadata": {
  "kernelspec": {
   "display_name": "Python 3",
   "language": "python",
   "name": "python3"
  },
  "language_info": {
   "codemirror_mode": {
    "name": "ipython",
    "version": 2
   },
   "file_extension": ".py",
   "mimetype": "text/x-python",
   "name": "python",
   "nbconvert_exporter": "python",
   "pygments_lexer": "ipython2",
   "version": "2.7.6"
  }
 },
 "nbformat": 4,
 "nbformat_minor": 5
}
