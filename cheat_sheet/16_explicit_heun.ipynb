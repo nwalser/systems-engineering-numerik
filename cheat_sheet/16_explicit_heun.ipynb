{
 "cells": [
  {
   "cell_type": "code",
   "execution_count": null,
   "id": "initial_id",
   "metadata": {
    "collapsed": true
   },
   "outputs": [],
   "source": "import numpy as np"
  },
  {
   "metadata": {},
   "cell_type": "code",
   "outputs": [],
   "execution_count": null,
   "source": [
    "def explicit_heun(x_end, h, x0, y0, f):\n",
    "    xs = np.arange(x0, x_end + 1/2 * h, h, dtype=float)\n",
    "    ys = np.zeros_like(xs, dtype=float)\n",
    "    ys[0] = y0\n",
    "\n",
    "    for i, x in enumerate(xs[:-1]):\n",
    "        y = ys[i]\n",
    "        r1 = f(x, y)\n",
    "        r2 = f(x+1*h, y+1*r1*h)\n",
    "        r = 1/2*r1 + 1/2*r2\n",
    "        ys[i+1] = y + r * h\n",
    "\n",
    "    return np.array(xs), np.array(ys)"
   ],
   "id": "613b205a4fdcede8"
  }
 ],
 "metadata": {
  "kernelspec": {
   "display_name": "Python 3",
   "language": "python",
   "name": "python3"
  },
  "language_info": {
   "codemirror_mode": {
    "name": "ipython",
    "version": 2
   },
   "file_extension": ".py",
   "mimetype": "text/x-python",
   "name": "python",
   "nbconvert_exporter": "python",
   "pygments_lexer": "ipython2",
   "version": "2.7.6"
  }
 },
 "nbformat": 4,
 "nbformat_minor": 5
}
