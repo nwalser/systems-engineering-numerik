{
 "cells": [
  {
   "metadata": {},
   "cell_type": "code",
   "outputs": [],
   "execution_count": null,
   "source": [
    "import numpy as np\n",
    "import matplotlib.pyplot as plt"
   ],
   "id": "initial_id"
  },
  {
   "metadata": {},
   "cell_type": "code",
   "outputs": [],
   "execution_count": null,
   "source": [
    "a = 3.8 * 1e-6\n",
    "L_plate = 5\n",
    "L = 2 * L_plate\n",
    "T_plate_left = 100\n",
    "T_plate_right = 0\n",
    "dT_left = 0\n",
    "dT_right = 0"
   ],
   "id": "266b497f4c271cd7"
  },
  {
   "metadata": {},
   "cell_type": "code",
   "outputs": [],
   "execution_count": null,
   "source": [
    "# get lengths\n",
    "j = 32\n",
    "l_start = 0\n",
    "l_end = 0.1\n",
    "h = (l_end - l_start) / j\n",
    "ls = np.linspace(start=l_start, stop=l_end, num=j)\n",
    "\n",
    "# get initial temperatures\n",
    "us = np.zeros_like(ls)\n",
    "for idx, l in enumerate(ls):\n",
    "    if l < 0.05:\n",
    "        us[idx] = T_plate_left\n",
    "    else:\n",
    "        us[idx] = T_plate_right\n",
    "\n",
    "# get times\n",
    "t_start = 0\n",
    "t_end = 50\n",
    "tau_max = (h ** 2 / (2 * a))\n",
    "tau = tau_max / 4\n",
    "ts = np.arange(start=t_start, stop=t_end, step=tau)\n",
    "\n",
    "# solve with FTCS\n",
    "us = np.hstack((T_left, us, T_right))\n",
    "\n",
    "for idx_t, t in enumerate(ts):\n",
    "    un = np.zeros_like(us)\n",
    "\n",
    "    un[0] = T_left\n",
    "    un[-1] = T_right\n",
    "\n",
    "    for (idx_u, u) in enumerate(us[1:-2]):\n",
    "        un[idx_u] = us[idx_u] + tau * a / h**2 * (us[idx_u + 1] - 2 * us[idx_u] + us[idx_u - 1])\n",
    "\n",
    "\n",
    "\n",
    "    # test for change\n",
    "    if np.max(np.abs(un - us)) < 0.1:\n",
    "        print(f\"Temperature delta smaller than 0.1°C after {t:.0f}s\")\n",
    "        break\n",
    "\n",
    "    us = un\n",
    "\n",
    "    if idx_t % (int(len(ts) / 10)) == 0:\n",
    "        plt.plot(ls, us[0:-2])\n",
    "\n",
    "plt.show()"
   ],
   "id": "e689fd68416e22d8"
  }
 ],
 "metadata": {
  "kernelspec": {
   "display_name": "Python 3",
   "language": "python",
   "name": "python3"
  },
  "language_info": {
   "codemirror_mode": {
    "name": "ipython",
    "version": 2
   },
   "file_extension": ".py",
   "mimetype": "text/x-python",
   "name": "python",
   "nbconvert_exporter": "python",
   "pygments_lexer": "ipython2",
   "version": "2.7.6"
  }
 },
 "nbformat": 4,
 "nbformat_minor": 5
}
