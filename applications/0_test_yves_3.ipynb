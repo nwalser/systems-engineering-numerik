{
 "cells": [
  {
   "metadata": {
    "ExecuteTime": {
     "end_time": "2024-04-29T19:20:59.695439Z",
     "start_time": "2024-04-29T19:20:59.690713Z"
    }
   },
   "cell_type": "code",
   "source": [
    "import matplotlib.pyplot as plt\n",
    "import numpy as np\n",
    "from scipy.linalg import lu, solve_triangular, solve"
   ],
   "id": "48577ee661670628",
   "outputs": [],
   "execution_count": 138
  },
  {
   "metadata": {
    "ExecuteTime": {
     "end_time": "2024-04-29T19:20:59.707096Z",
     "start_time": "2024-04-29T19:20:59.696445Z"
    }
   },
   "cell_type": "code",
   "source": [
    "# define model\n",
    "H1=60\n",
    "A1=0.05\n",
    "L1=500\n",
    "\n",
    "H2=45\n",
    "A2=0.03\n",
    "L2=2500\n",
    "\n",
    "ro=1000\n",
    "g=9.81\n",
    "Zeta=0.002\n",
    "p0=1e6\n",
    "tol = 10\n",
    "\n",
    "def differential_pressure_function(x, p_el):\n",
    "    a = 4/27*p0**3/(p_el-1e5)**2\n",
    "    b = p0/2\n",
    "    iv_tot = x[0] + x[1]\n",
    "\n",
    "    return np.array([\n",
    "        (p0-a*iv_tot**2-b*iv_tot**3)-(L1 * Zeta * ro / 2 / A1**2 * x[0]**2)-(ro*g*H1), # f1\n",
    "        (p0-a*iv_tot**2-b*iv_tot**3)-(L2 * Zeta * ro / 2 / A2**2 * x[1]**2)-(ro*g*H2), # f2\n",
    "    ])\n",
    "    \n",
    "def differential_pressure_function_jacobi(x, p_el):\n",
    "    a = 4/27*p0**3/(p_el-1e5)**2\n",
    "    b = p0/2\n",
    "    iv_tot = x[0] + x[1]\n",
    "\n",
    "    return np.array([\n",
    "        [\n",
    "            (-2*a*iv_tot-3*b*iv_tot**2)-(L1 * Zeta * ro / 2 / A1**2 * 2 * x[0]), # f1 nach Iv1\n",
    "            (-2*a*iv_tot-3*b*iv_tot**2) # f1 nach Iv2\n",
    "        ],\n",
    "        [\n",
    "            (-2*a*iv_tot-3*b*iv_tot**2), # f2 nach Iv1\n",
    "            (-2*a*iv_tot-3*b*iv_tot**2)-(L2 * Zeta * ro / 2 / A2**2 * 2 * x[1]) # f2 nach Iv2\n",
    "        ]\n",
    "    ])"
   ],
   "id": "b1c4ff0e3c0d041f",
   "outputs": [],
   "execution_count": 139
  },
  {
   "metadata": {
    "ExecuteTime": {
     "end_time": "2024-04-29T19:20:59.713624Z",
     "start_time": "2024-04-29T19:20:59.708104Z"
    }
   },
   "cell_type": "code",
   "source": [
    "# generalized gauss algorythm\n",
    "class AttrDict(dict):\n",
    "    def __getattr__(self, key):\n",
    "        return self[key]\n",
    "\n",
    "    def __setattr__(self, key, value):\n",
    "        self[key] = value\n",
    "\n",
    "def newton(f, df, x, tolerance=1e-14, max_step=100, debug=False):\n",
    "    xs = []\n",
    "    step = 0\n",
    "    error = np.linalg.norm(f(x))\n",
    "    while error > tolerance and step < max_step:\n",
    "        if debug: print(f\"Error: {error}, X: {x}, Step: {step}\")\n",
    "        x += solve(df(x), -f(x))\n",
    "        error = np.linalg.norm(f(x))\n",
    "        step += 1\n",
    "        xs.append(x)\n",
    "\n",
    "    return xs, error, step, x"
   ],
   "id": "2e70e7158b5f96d0",
   "outputs": [],
   "execution_count": 140
  },
  {
   "metadata": {
    "ExecuteTime": {
     "end_time": "2024-04-29T19:20:59.720763Z",
     "start_time": "2024-04-29T19:20:59.715632Z"
    }
   },
   "cell_type": "code",
   "source": [
    "# get model functions with desired parameters\n",
    "f = lambda x: differential_pressure_function(x, p_el=200_000)\n",
    "df = lambda x: differential_pressure_function_jacobi(x, p_el=200_000)\n",
    "\n",
    "x0 = np.array([0.1, 0.1])\n",
    "(xs, error, num_steps, x) = newton(f, df, x0)\n",
    "print(x)"
   ],
   "id": "103942005733161a",
   "outputs": [
    {
     "name": "stdout",
     "output_type": "stream",
     "text": [
      "[-0.06480965  0.23081686]\n"
     ]
    }
   ],
   "execution_count": 141
  }
 ],
 "metadata": {
  "kernelspec": {
   "display_name": "Python 3",
   "language": "python",
   "name": "python3"
  },
  "language_info": {
   "codemirror_mode": {
    "name": "ipython",
    "version": 2
   },
   "file_extension": ".py",
   "mimetype": "text/x-python",
   "name": "python",
   "nbconvert_exporter": "python",
   "pygments_lexer": "ipython2",
   "version": "2.7.6"
  }
 },
 "nbformat": 4,
 "nbformat_minor": 5
}
