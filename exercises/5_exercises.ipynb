{
 "cells": [
  {
   "cell_type": "code",
   "id": "initial_id",
   "metadata": {
    "collapsed": true,
    "ExecuteTime": {
     "end_time": "2024-06-15T13:19:52.264748Z",
     "start_time": "2024-06-15T13:19:52.256733Z"
    }
   },
   "source": [
    "import numpy as np\n",
    "import scipy"
   ],
   "outputs": [],
   "execution_count": 5
  },
  {
   "metadata": {
    "ExecuteTime": {
     "end_time": "2024-06-15T13:19:52.271085Z",
     "start_time": "2024-06-15T13:19:52.264748Z"
    }
   },
   "cell_type": "code",
   "source": [
    "# RANK\n",
    "A = np.array([[1, 1],\n",
    "              [0.001, 0],\n",
    "              [0, 0.001]])\n",
    "\n",
    "b = np.array([2, 0.001, 0.001])\n",
    "\n",
    "rank = np.linalg.matrix_rank(A)\n",
    "print(rank)\n",
    "print(A.T @ A)"
   ],
   "id": "d6652d991461d63c",
   "outputs": [
    {
     "name": "stdout",
     "output_type": "stream",
     "text": [
      "2\n",
      "[[1.000001 1.      ]\n",
      " [1.       1.000001]]\n"
     ]
    }
   ],
   "execution_count": 6
  },
  {
   "metadata": {
    "ExecuteTime": {
     "end_time": "2024-06-15T13:19:52.336207Z",
     "start_time": "2024-06-15T13:19:52.271085Z"
    }
   },
   "cell_type": "code",
   "source": [
    "def back_substitution(U, y):\n",
    "    n = U.shape[1]\n",
    "    x = np.zeros_like(y, dtype=np.double)\n",
    "    x[-1] = y[-1] / U[-1, -1]\n",
    "    for i in range(n - 2, -1, -1):\n",
    "        x[i] = (y[i] - np.dot(U[i, i:], x[i:])) / U[i, i]\n",
    "\n",
    "    return x\n",
    "\n",
    "def linsolve_lstsq(A, b):\n",
    "    num_param = A.shape[1]\n",
    "    q, r = scipy.linalg.qr(A) # Q*R*p = y\n",
    "    return back_substitution(r[0:num_param], (q.T @ b)[0:num_param]) # solve for: R*p = Q.T * y\n",
    "\n",
    "\n",
    "p = linsolve_lstsq(A, b)\n",
    "print(p)"
   ],
   "id": "829a27e3c3859866",
   "outputs": [
    {
     "name": "stdout",
     "output_type": "stream",
     "text": [
      "[1. 1.]\n"
     ]
    }
   ],
   "execution_count": 7
  },
  {
   "metadata": {
    "ExecuteTime": {
     "end_time": "2024-06-15T13:19:52.340473Z",
     "start_time": "2024-06-15T13:19:52.336207Z"
    }
   },
   "cell_type": "code",
   "source": [
    "# COND\n",
    "cond_euclid_1 = np.linalg.cond(A, 2) # second/euclid norm\n",
    "cond_euclid_2 = np.linalg.cond(A.T @ A, 2) # second/euclid norm\n",
    "print(cond_euclid_1)\n",
    "print(cond_euclid_2)"
   ],
   "id": "74912f9f5b297597",
   "outputs": [
    {
     "name": "stdout",
     "output_type": "stream",
     "text": [
      "1414.2139159264418\n",
      "2000001.0004788719\n"
     ]
    }
   ],
   "execution_count": 8
  }
 ],
 "metadata": {
  "kernelspec": {
   "display_name": "Python 3",
   "language": "python",
   "name": "python3"
  },
  "language_info": {
   "codemirror_mode": {
    "name": "ipython",
    "version": 2
   },
   "file_extension": ".py",
   "mimetype": "text/x-python",
   "name": "python",
   "nbconvert_exporter": "python",
   "pygments_lexer": "ipython2",
   "version": "2.7.6"
  }
 },
 "nbformat": 4,
 "nbformat_minor": 5
}
