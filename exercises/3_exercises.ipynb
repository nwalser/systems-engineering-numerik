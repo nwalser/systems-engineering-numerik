{
 "cells": [
  {
   "cell_type": "code",
   "id": "initial_id",
   "metadata": {
    "collapsed": true,
    "ExecuteTime": {
     "end_time": "2024-06-10T12:26:19.385508Z",
     "start_time": "2024-06-10T12:26:19.382236Z"
    }
   },
   "source": [
    "import numpy as np\n",
    "import matplotlib.pyplot as plt"
   ],
   "outputs": [],
   "execution_count": 70
  },
  {
   "metadata": {
    "ExecuteTime": {
     "end_time": "2024-06-10T12:26:19.394820Z",
     "start_time": "2024-06-10T12:26:19.386507Z"
    }
   },
   "cell_type": "code",
   "source": [
    "x = np.array([5000, 6000]) / 6000 # scaling x axis\n",
    "y = np.array([100, 110])\n",
    "\n",
    "A = np.vstack((np.ones_like(x), x)).T\n",
    "\n",
    "p = np.linalg.solve(A, y) # Solve: A*p = y for p\n",
    "cond = np.linalg.cond(A, 2) # Calculate condition\n",
    "\n",
    "print(p)\n",
    "print(cond)"
   ],
   "id": "a4a177876f982077",
   "outputs": [
    {
     "name": "stdout",
     "output_type": "stream",
     "text": [
      "[50. 60.]\n",
      "22.121461697226263\n"
     ]
    }
   ],
   "execution_count": 71
  },
  {
   "metadata": {
    "ExecuteTime": {
     "end_time": "2024-06-10T12:26:19.400040Z",
     "start_time": "2024-06-10T12:26:19.394820Z"
    }
   },
   "cell_type": "code",
   "source": [
    "H = np.array([[1, 1/2, 1/3],\n",
    "              [1/2, 1/3, 1/4],\n",
    "              [1/3, 1/4, 1/5]])\n",
    "\n",
    "print(np.linalg.inv(H) / 9)\n",
    "print(np.linalg.cond(H, 2))"
   ],
   "id": "1db2445e36f40d6b",
   "outputs": [
    {
     "name": "stdout",
     "output_type": "stream",
     "text": [
      "[[  1.          -4.           3.33333333]\n",
      " [ -4.          21.33333333 -20.        ]\n",
      " [  3.33333333 -20.          20.        ]]\n",
      "524.0567775860644\n"
     ]
    }
   ],
   "execution_count": 72
  },
  {
   "metadata": {
    "ExecuteTime": {
     "end_time": "2024-06-10T12:26:19.405704Z",
     "start_time": "2024-06-10T12:26:19.400040Z"
    }
   },
   "cell_type": "code",
   "source": [
    "H = np.array([[1, 0.5, 0.33],\n",
    "              [0.5, 0.33, 0.25],\n",
    "              [0.33, 0.25, 0.2]])\n",
    "\n",
    "print(np.linalg.inv(H) / 55.555555555)"
   ],
   "id": "6f9ac6606f5479a5",
   "outputs": [
    {
     "name": "stdout",
     "output_type": "stream",
     "text": [
      "[[  1.          -5.           4.6       ]\n",
      " [ -5.          26.02857143 -24.28571429]\n",
      " [  4.6        -24.28571429  22.85714286]]\n"
     ]
    }
   ],
   "execution_count": 73
  }
 ],
 "metadata": {
  "kernelspec": {
   "display_name": "Python 3",
   "language": "python",
   "name": "python3"
  },
  "language_info": {
   "codemirror_mode": {
    "name": "ipython",
    "version": 2
   },
   "file_extension": ".py",
   "mimetype": "text/x-python",
   "name": "python",
   "nbconvert_exporter": "python",
   "pygments_lexer": "ipython2",
   "version": "2.7.6"
  }
 },
 "nbformat": 4,
 "nbformat_minor": 5
}
