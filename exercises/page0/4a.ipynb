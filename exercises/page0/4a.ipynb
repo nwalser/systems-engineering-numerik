{
 "cells": [
  {
   "cell_type": "code",
   "execution_count": 54,
   "metadata": {},
   "outputs": [
    {
     "name": "stdout",
     "output_type": "stream",
     "text": [
      "[[ 3025]\n",
      " [ 6050]\n",
      " [ 9075]\n",
      " [12100]\n",
      " [15125]\n",
      " [18150]\n",
      " [21175]\n",
      " [24200]\n",
      " [27225]\n",
      " [30250]]\n",
      "[  1   4   9  16  25  36  49  64  81 100]\n",
      "[1]\n",
      "[[ 1  2  3  4  5  6  7  8  9 10]\n",
      " [ 2  2  6  8 10 12 14 16 18 20]\n",
      " [ 3  6  3 12 15 18 21 24 27 30]\n",
      " [ 4  8 12  4 20 24 28 32 36 40]\n",
      " [ 5 10 15 20  5 30 35 40 45 50]\n",
      " [ 6 12 18 24 30  6 42 48 54 60]\n",
      " [ 7 14 21 28 35 42  7 56 63 70]\n",
      " [ 8 16 24 32 40 48 56  8 72 80]\n",
      " [ 9 18 27 36 45 54 63 72  9 90]\n",
      " [10 20 30 40 50 60 70 80 90 10]]\n",
      "(array([0, 1, 2, 3, 4, 5, 6, 7, 8, 9]), array([0, 1, 2, 3, 4, 5, 6, 7, 8, 9]))\n"
     ]
    }
   ],
   "source": [
    "import numpy as np\n",
    "import matplotlib.pyplot as plt\n",
    "\n",
    "i = np.array([np.arange(1, 11, 1)])\n",
    "j = np.array([np.arange(1, 11, 1)])\n",
    "\n",
    "A = i.T@i\n",
    "b = i*i\n",
    "\n",
    "print(A@b.T)\n",
    "\n",
    "print(np.diag(A))\n",
    "print(np.diag(b))\n",
    "\n",
    "# change diagonal values\n",
    "indices = np.diag_indices_from(A)\n",
    "A[indices] = [np.arange(1, 11, 1)]\n",
    "print(A)"
   ]
  }
 ],
 "metadata": {
  "kernelspec": {
   "display_name": ".venv",
   "language": "python",
   "name": "python3"
  },
  "language_info": {
   "codemirror_mode": {
    "name": "ipython",
    "version": 3
   },
   "file_extension": ".py",
   "mimetype": "text/x-python",
   "name": "python",
   "nbconvert_exporter": "python",
   "pygments_lexer": "ipython3",
   "version": "3.11.0"
  }
 },
 "nbformat": 4,
 "nbformat_minor": 2
}
