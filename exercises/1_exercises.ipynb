{
 "cells": [
  {
   "cell_type": "code",
   "id": "initial_id",
   "metadata": {
    "collapsed": true,
    "ExecuteTime": {
     "end_time": "2024-06-04T09:49:37.142494Z",
     "start_time": "2024-06-04T09:49:37.139548Z"
    }
   },
   "source": [
    "import math\n",
    "\n",
    "# exercise 2\n",
    "print(f\"Count of Numbers: {math.pow(2, 25)}\")\n",
    "\n",
    "exponent = math.pow(2, 4)\n",
    "factor = math.pow(10, exponent)\n",
    "\n",
    "print(f\"Min: -{factor:f}\")\n",
    "print(f\"Max: -{factor:f}\")"
   ],
   "outputs": [
    {
     "name": "stdout",
     "output_type": "stream",
     "text": [
      "Count of Numbers: 33554432.0\n",
      "Min: -10000000000000000.000000\n",
      "Max: -10000000000000000.000000\n"
     ]
    }
   ],
   "execution_count": 6
  },
  {
   "metadata": {},
   "cell_type": "code",
   "outputs": [],
   "execution_count": null,
   "source": "",
   "id": "38a203b39c917ac3"
  }
 ],
 "metadata": {
  "kernelspec": {
   "display_name": "Python 3",
   "language": "python",
   "name": "python3"
  },
  "language_info": {
   "codemirror_mode": {
    "name": "ipython",
    "version": 2
   },
   "file_extension": ".py",
   "mimetype": "text/x-python",
   "name": "python",
   "nbconvert_exporter": "python",
   "pygments_lexer": "ipython2",
   "version": "2.7.6"
  }
 },
 "nbformat": 4,
 "nbformat_minor": 5
}
