{
 "cells": [
  {
   "cell_type": "code",
   "id": "initial_id",
   "metadata": {
    "collapsed": true,
    "ExecuteTime": {
     "end_time": "2024-06-15T13:15:18.274211Z",
     "start_time": "2024-06-15T13:15:18.265408Z"
    }
   },
   "source": [
    "import numpy as np\n",
    "import scipy\n",
    "\n",
    "def back_substitution(U, y):\n",
    "    n = U.shape[1]\n",
    "    x = np.zeros_like(y, dtype=np.double)\n",
    "    x[-1] = y[-1] / U[-1, -1]\n",
    "    for i in range(n - 2, -1, -1):\n",
    "        x[i] = (y[i] - np.dot(U[i, i:], x[i:])) / U[i, i]\n",
    "\n",
    "    return x\n",
    "\n",
    "def linsolve_lstsq(A, b):\n",
    "    num_param = A.shape[1]\n",
    "    q, r = scipy.linalg.qr(A) # Q*R*p = y\n",
    "    return back_substitution(r[0:num_param], (q.T @ b)[0:num_param]) # solve for: R*p = Q.T * y\n"
   ],
   "outputs": [],
   "execution_count": 36
  },
  {
   "metadata": {
    "ExecuteTime": {
     "end_time": "2024-06-15T13:15:18.280499Z",
     "start_time": "2024-06-15T13:15:18.274211Z"
    }
   },
   "cell_type": "code",
   "source": [
    "x = np.array([-1, 0, 1, 2, 3])\n",
    "y = np.array([2, 6, 7, 8, 10])\n",
    "\n",
    "A = np.vstack((np.ones_like(x), x)).T\n",
    "parameters = linsolve_lstsq(A, y)\n",
    "print(parameters)"
   ],
   "id": "3c214719c4975a81",
   "outputs": [
    {
     "name": "stdout",
     "output_type": "stream",
     "text": [
      "[4.8 1.8]\n"
     ]
    }
   ],
   "execution_count": 37
  },
  {
   "metadata": {
    "ExecuteTime": {
     "end_time": "2024-06-15T13:15:18.286274Z",
     "start_time": "2024-06-15T13:15:18.280499Z"
    }
   },
   "cell_type": "code",
   "source": [
    "x = np.array([0.04, 0.32, 0.51, 0.73, 1.03, 1.42, 1.60])\n",
    "y = np.array([2.63, 1.18, 1.16, 1.54, 2.65, 5.41, 7.67])\n",
    "\n",
    "A = np.vstack((np.ones_like(x), x, x**2)).T\n",
    "(a, b, c) = linsolve_lstsq(A, y)\n",
    "print((a, b, c))"
   ],
   "id": "dea1d07efe397264",
   "outputs": [
    {
     "name": "stdout",
     "output_type": "stream",
     "text": [
      "(2.7491976488492043, -5.954657477653898, 5.6072465614985685)\n"
     ]
    }
   ],
   "execution_count": 38
  },
  {
   "metadata": {
    "ExecuteTime": {
     "end_time": "2024-06-15T13:15:18.292685Z",
     "start_time": "2024-06-15T13:15:18.286274Z"
    }
   },
   "cell_type": "code",
   "source": [
    "x = np.array([1, 2, 3])\n",
    "y = np.array([-1, 0, 1])\n",
    "\n",
    "A = np.vstack((np.cos(np.pi/4 * x), np.sin(np.pi/3 * x))).T\n",
    "(a, b) = linsolve_lstsq(A, y)\n",
    "print((a, b))"
   ],
   "id": "6566ed1ce099883c",
   "outputs": [
    {
     "name": "stdout",
     "output_type": "stream",
     "text": [
      "(-1.414213562373095, 1.0467283057891835e-16)\n"
     ]
    }
   ],
   "execution_count": 39
  },
  {
   "metadata": {
    "ExecuteTime": {
     "end_time": "2024-06-15T13:15:18.298721Z",
     "start_time": "2024-06-15T13:15:18.292685Z"
    }
   },
   "cell_type": "code",
   "source": [
    "x = np.array([1, np.e, np.e**2])\n",
    "y = np.array([1, 2, 3])\n",
    "\n",
    "A = np.vstack((np.ones_like(x), np.log(x))).T\n",
    "(l1, l2) = linsolve_lstsq(A, y**2)\n",
    "print((l1, l2))\n",
    "\n",
    "a = l2\n",
    "b = np.exp(l1/a)\n",
    "print((a, b))"
   ],
   "id": "f7bb74d58d2df1e7",
   "outputs": [
    {
     "name": "stdout",
     "output_type": "stream",
     "text": [
      "(0.6666666666666656, 4.0)\n",
      "(4.0, 1.1813604128656456)\n"
     ]
    }
   ],
   "execution_count": 40
  }
 ],
 "metadata": {
  "kernelspec": {
   "display_name": "Python 3",
   "language": "python",
   "name": "python3"
  },
  "language_info": {
   "codemirror_mode": {
    "name": "ipython",
    "version": 2
   },
   "file_extension": ".py",
   "mimetype": "text/x-python",
   "name": "python",
   "nbconvert_exporter": "python",
   "pygments_lexer": "ipython2",
   "version": "2.7.6"
  }
 },
 "nbformat": 4,
 "nbformat_minor": 5
}
