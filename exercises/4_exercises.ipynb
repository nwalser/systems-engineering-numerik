{
 "cells": [
  {
   "cell_type": "code",
   "id": "initial_id",
   "metadata": {
    "collapsed": true,
    "ExecuteTime": {
     "end_time": "2024-06-10T13:03:29.314810Z",
     "start_time": "2024-06-10T13:03:29.309814Z"
    }
   },
   "source": [
    "import numpy as np\n",
    "import scipy"
   ],
   "outputs": [],
   "execution_count": 24
  },
  {
   "metadata": {
    "ExecuteTime": {
     "end_time": "2024-06-10T13:03:29.324890Z",
     "start_time": "2024-06-10T13:03:29.315808Z"
    }
   },
   "cell_type": "code",
   "source": [
    "x = np.array([-1, 0, 1, 2, 3])\n",
    "y = np.array([2, 6, 7, 8, 10])\n",
    "\n",
    "A = np.vstack((np.ones_like(x), x)).T\n",
    "parameters, residual, rank, singular_values = np.linalg.lstsq(A, y, rcond=None)\n",
    "print(parameters)\n",
    "print(residual)"
   ],
   "id": "3c214719c4975a81",
   "outputs": [
    {
     "name": "stdout",
     "output_type": "stream",
     "text": [
      "[4.8 1.8]\n",
      "[2.8]\n"
     ]
    }
   ],
   "execution_count": 25
  },
  {
   "metadata": {
    "ExecuteTime": {
     "end_time": "2024-06-10T13:03:29.330961Z",
     "start_time": "2024-06-10T13:03:29.325882Z"
    }
   },
   "cell_type": "code",
   "source": [
    "x = np.array([0.04, 0.32, 0.51, 0.73, 1.03, 1.42, 1.60])\n",
    "y = np.array([2.63, 1.18, 1.16, 1.54, 2.65, 5.41, 7.67])\n",
    "\n",
    "A = np.vstack((np.ones_like(x), x, x**2)).T\n",
    "(a, b, c), residual, rank, singular_values = np.linalg.lstsq(A, y, rcond=None)\n",
    "print(parameters)\n",
    "print(residual)"
   ],
   "id": "dea1d07efe397264",
   "outputs": [
    {
     "name": "stdout",
     "output_type": "stream",
     "text": [
      "[4.8 1.8]\n",
      "[0.14337363]\n"
     ]
    }
   ],
   "execution_count": 26
  },
  {
   "metadata": {
    "ExecuteTime": {
     "end_time": "2024-06-10T13:03:29.337351Z",
     "start_time": "2024-06-10T13:03:29.330961Z"
    }
   },
   "cell_type": "code",
   "source": [
    "x = np.array([1, 2, 3])\n",
    "y = np.array([-1, 0, 1])\n",
    "\n",
    "A = np.vstack((np.cos(np.pi/4 * x), np.sin(np.pi/3 * x))).T\n",
    "(a, b), residual, rank, singular_values = np.linalg.lstsq(A, y, rcond=None)\n",
    "print((a, b))\n",
    "print(residual)"
   ],
   "id": "6566ed1ce099883c",
   "outputs": [
    {
     "name": "stdout",
     "output_type": "stream",
     "text": [
      "(-1.4142135623730951, 3.7735666591359055e-16)\n",
      "[1.65269358e-33]\n"
     ]
    }
   ],
   "execution_count": 27
  },
  {
   "metadata": {
    "ExecuteTime": {
     "end_time": "2024-06-10T13:11:10.960991Z",
     "start_time": "2024-06-10T13:11:10.953957Z"
    }
   },
   "cell_type": "code",
   "source": [
    "x = np.array([1, np.e, np.e**2])\n",
    "y = np.array([1, 2, 3])\n",
    "\n",
    "A = np.vstack((np.ones_like(x), np.log(x))).T\n",
    "(l1, l2), residual, rank, singular_values = np.linalg.lstsq(A, y**2, rcond=None)\n",
    "print((l1, l2))\n",
    "print(residual)\n",
    "\n",
    "a = l2\n",
    "b = np.exp(l1/a)\n",
    "print((a, b))"
   ],
   "id": "f7bb74d58d2df1e7",
   "outputs": [
    {
     "name": "stdout",
     "output_type": "stream",
     "text": [
      "(0.6666666666666663, 4.0)\n",
      "[0.66666667]\n",
      "(4.0, 1.1813604128656459)\n"
     ]
    }
   ],
   "execution_count": 34
  }
 ],
 "metadata": {
  "kernelspec": {
   "display_name": "Python 3",
   "language": "python",
   "name": "python3"
  },
  "language_info": {
   "codemirror_mode": {
    "name": "ipython",
    "version": 2
   },
   "file_extension": ".py",
   "mimetype": "text/x-python",
   "name": "python",
   "nbconvert_exporter": "python",
   "pygments_lexer": "ipython2",
   "version": "2.7.6"
  }
 },
 "nbformat": 4,
 "nbformat_minor": 5
}
