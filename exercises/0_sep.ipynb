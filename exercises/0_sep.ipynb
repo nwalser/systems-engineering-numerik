{
 "cells": [
  {
   "cell_type": "code",
   "id": "initial_id",
   "metadata": {
    "collapsed": true,
    "ExecuteTime": {
     "end_time": "2024-06-16T15:37:50.377382Z",
     "start_time": "2024-06-16T15:37:50.370797Z"
    }
   },
   "source": [
    "import numpy as np\n",
    "import scipy.linalg\n",
    "np.set_printoptions(precision=2)\n",
    "\n",
    "A = np.array([\n",
    "    [1, 2, -7, -19],\n",
    "    [-2, -5, 16, 44],\n",
    "    [7, 16, -52, -142],\n",
    "    [30, 69, -225, -616]\n",
    "], dtype=float)\n",
    "\n",
    "b1 = np.array([29.01, 9.02, 33.99, -9.97], dtype=float)\n",
    "b2 = np.array([29, 9, 34, -10], dtype=float)\n",
    "\n",
    "p1 = A@b1\n",
    "p2 = A@b2\n",
    "\n",
    "f_rel = np.linalg.norm(p1-p2, np.inf) / np.linalg.norm(p1, np.inf)\n",
    "print(f_rel)\n"
   ],
   "outputs": [
    {
     "name": "stdout",
     "output_type": "stream",
     "text": [
      "1.073800738007384\n"
     ]
    }
   ],
   "execution_count": 15
  },
  {
   "metadata": {
    "ExecuteTime": {
     "end_time": "2024-06-16T15:38:57.565817Z",
     "start_time": "2024-06-16T15:38:57.553820Z"
    }
   },
   "cell_type": "code",
   "source": [
    "def back_substitution(U, y):\n",
    "    n = U.shape[1]\n",
    "    x = np.zeros_like(y, dtype=np.double)\n",
    "    x[-1] = y[-1] / U[-1, -1]\n",
    "    for i in range(n - 2, -1, -1):\n",
    "        x[i] = (y[i] - np.dot(U[i, i:], x[i:])) / U[i, i]\n",
    "\n",
    "    return x\n",
    "\n",
    "def linsolve_qr(A, b):\n",
    "    num_param = A.shape[1]\n",
    "    q, r = scipy.linalg.qr(A) # Q*R*p = y\n",
    "    return back_substitution(r[0:num_param], (q.T @ b)[0:num_param]) # solve for: R*p = Q.T * y\n",
    "\n",
    "\n",
    "A = np.array([\n",
    "    [np.sin(2*1), np.log(1**2), 1/2],\n",
    "    [np.sin(2*1.5), np.log(1.5**2), 1/2],\n",
    "    [np.sin(2*2), np.log(2**2), 1/2],\n",
    "    [np.sin(2*2.5), np.log(2.5**2), 1/2],\n",
    "])\n",
    "print(A)\n",
    "\n",
    "b = np.array([3.7, 3, 1.5, 1.8])\n",
    "print(b)\n",
    "\n",
    "q, r = scipy.linalg.qr(A)\n",
    "print(q)\n",
    "print(r)\n",
    "\n",
    "p = linsolve_qr(A, b)\n",
    "print(p)\n",
    "\n",
    "error = A@p - b\n",
    "print(error)\n",
    "\n",
    "resid = np.sum(error**2)\n",
    "print(resid)"
   ],
   "id": "2a90b950ffac9778",
   "outputs": [
    {
     "name": "stdout",
     "output_type": "stream",
     "text": [
      "[[ 0.91  0.    0.5 ]\n",
      " [ 0.14  0.81  0.5 ]\n",
      " [-0.76  1.39  0.5 ]\n",
      " [-0.96  1.83  0.5 ]]\n",
      "[3.7 3.  1.5 1.8]\n",
      "[[-0.59 -0.62 -0.23  0.46]\n",
      " [-0.09 -0.58  0.33 -0.74]\n",
      " [ 0.49 -0.31 -0.8  -0.17]\n",
      " [ 0.63 -0.43  0.46  0.46]]\n",
      "[[-1.53  1.76  0.22]\n",
      " [ 0.   -1.69 -0.97]\n",
      " [ 0.    0.   -0.12]\n",
      " [ 0.    0.    0.  ]]\n",
      "[2.95 1.97 2.01]\n",
      "[-0.01  0.02  0.   -0.01]\n",
      "0.0007063317893711184\n"
     ]
    }
   ],
   "execution_count": 18
  }
 ],
 "metadata": {
  "kernelspec": {
   "display_name": "Python 3",
   "language": "python",
   "name": "python3"
  },
  "language_info": {
   "codemirror_mode": {
    "name": "ipython",
    "version": 2
   },
   "file_extension": ".py",
   "mimetype": "text/x-python",
   "name": "python",
   "nbconvert_exporter": "python",
   "pygments_lexer": "ipython2",
   "version": "2.7.6"
  }
 },
 "nbformat": 4,
 "nbformat_minor": 5
}
