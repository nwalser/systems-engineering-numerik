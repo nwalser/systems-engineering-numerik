{
 "cells": [
  {
   "cell_type": "code",
   "id": "initial_id",
   "metadata": {
    "collapsed": true,
    "ExecuteTime": {
     "end_time": "2024-06-10T13:57:41.131830Z",
     "start_time": "2024-06-10T13:57:41.126725Z"
    }
   },
   "source": [
    "import numpy as np\n",
    "import scipy\n",
    "from numerik import lu"
   ],
   "outputs": [],
   "execution_count": 236
  },
  {
   "metadata": {
    "ExecuteTime": {
     "end_time": "2024-06-10T13:57:41.138463Z",
     "start_time": "2024-06-10T13:57:41.133875Z"
    }
   },
   "cell_type": "code",
   "source": [
    "# COND\n",
    "A = np.array([[1, 0],\n",
    "              [1, 1]])\n",
    "\n",
    "cond_first = np.linalg.cond(A, 1) # first norm\n",
    "cond_euclid = np.linalg.cond(A, 2) # second/euclid norm\n",
    "cond_inf = np.linalg.cond(A, np.inf) # infinity norm"
   ],
   "id": "6fcdaa56b45ea068",
   "outputs": [],
   "execution_count": 237
  },
  {
   "metadata": {
    "ExecuteTime": {
     "end_time": "2024-06-10T13:57:41.142976Z",
     "start_time": "2024-06-10T13:57:41.138463Z"
    }
   },
   "cell_type": "code",
   "source": [
    "# RANK\n",
    "A = np.array([[1, 0],\n",
    "              [1, 1]])\n",
    "\n",
    "rank = np.linalg.matrix_rank(A)"
   ],
   "id": "13fe56cfc7462bf1",
   "outputs": [],
   "execution_count": 238
  },
  {
   "metadata": {
    "ExecuteTime": {
     "end_time": "2024-06-10T13:57:41.148939Z",
     "start_time": "2024-06-10T13:57:41.144949Z"
    }
   },
   "cell_type": "code",
   "source": [
    "# LINSOLVE EXACT\n",
    "x = np.array([5000, 6000])\n",
    "y = np.array([100, 110])\n",
    "\n",
    "# create matrix for model function: y = p1 + p2 * x\n",
    "A = np.vstack((np.ones_like(x), x)).T\n",
    "parameters = np.linalg.solve(A, y) # Solve: A*p = y for p\n",
    "p1, p2 = parameters"
   ],
   "id": "88904776050c7d3a",
   "outputs": [],
   "execution_count": 239
  },
  {
   "metadata": {
    "ExecuteTime": {
     "end_time": "2024-06-10T13:57:41.154490Z",
     "start_time": "2024-06-10T13:57:41.148939Z"
    }
   },
   "cell_type": "code",
   "source": [
    "# LINSOLVE LSTSQ\n",
    "x = np.array([-1, 0, 1, 2, 3])\n",
    "y = np.array([2, 6, 7, 8, 10])\n",
    "\n",
    "# create matrix for model function: y = p1 + p2 * x + p2 * x^2\n",
    "A = np.vstack((np.ones_like(x), x, x**2)).T\n",
    "parameters, residual, rank, singular_values = np.linalg.lstsq(A, y, rcond=None)\n",
    "p1, p2, p3 = parameters"
   ],
   "id": "ae399c5ce2ca91ed",
   "outputs": [],
   "execution_count": 240
  },
  {
   "metadata": {
    "ExecuteTime": {
     "end_time": "2024-06-10T13:57:41.158868Z",
     "start_time": "2024-06-10T13:57:41.155013Z"
    }
   },
   "cell_type": "code",
   "source": [
    "# LINSOLVE LSTSQ with QR\n",
    "x = np.array([5000, 6000])\n",
    "y = np.array([100, 110])\n",
    "\n",
    "# create matrix for model function: y = p1 + p2 * x\n",
    "A = np.vstack((np.ones_like(x), x)).T\n",
    "\n",
    "num_param = A.shape[1]\n",
    "q, r = scipy.linalg.qr(A) # Q*R*p = y\n",
    "parameters = lu.back_substitution(r[0:num_param], (q.T @ y)[0:num_param]) # solve for: R*p = Q.T * y\n",
    "p1, p2 = parameters"
   ],
   "id": "8ce3fc8f21fbd12d",
   "outputs": [],
   "execution_count": 241
  },
  {
   "metadata": {
    "ExecuteTime": {
     "end_time": "2024-06-10T13:57:41.162523Z",
     "start_time": "2024-06-10T13:57:41.158868Z"
    }
   },
   "cell_type": "code",
   "source": [
    "# INVERSE\n",
    "A = np.array([[1, 1/2, 1/3],\n",
    "              [1/2, 1/3, 1/4],\n",
    "              [1/3, 1/4, 1/5]])\n",
    "\n",
    "A_inv = np.linalg.inv(A)"
   ],
   "id": "c6d1d488981d7782",
   "outputs": [],
   "execution_count": 242
  },
  {
   "metadata": {
    "ExecuteTime": {
     "end_time": "2024-06-10T13:57:41.166107Z",
     "start_time": "2024-06-10T13:57:41.163529Z"
    }
   },
   "cell_type": "code",
   "source": [
    "# LU Decomposition\n",
    "A = np.array([[1, 0],\n",
    "              [1, 1]])\n",
    "\n",
    "p, l, u = scipy.linalg.lu(A, permute_l=False)"
   ],
   "id": "d8bfe42ff798868f",
   "outputs": [],
   "execution_count": 243
  },
  {
   "metadata": {
    "ExecuteTime": {
     "end_time": "2024-06-10T13:57:41.169699Z",
     "start_time": "2024-06-10T13:57:41.166107Z"
    }
   },
   "cell_type": "code",
   "source": [
    "# QR Decomposition\n",
    "A = np.array([[9, -7],\n",
    "              [-18, -4],\n",
    "              [18, -5]])\n",
    "\n",
    "q, r = scipy.linalg.qr(A) # Q*R*p = y"
   ],
   "id": "614d734a8090c37f",
   "outputs": [],
   "execution_count": 244
  }
 ],
 "metadata": {
  "kernelspec": {
   "display_name": "Python 3",
   "language": "python",
   "name": "python3"
  },
  "language_info": {
   "codemirror_mode": {
    "name": "ipython",
    "version": 2
   },
   "file_extension": ".py",
   "mimetype": "text/x-python",
   "name": "python",
   "nbconvert_exporter": "python",
   "pygments_lexer": "ipython2",
   "version": "2.7.6"
  }
 },
 "nbformat": 4,
 "nbformat_minor": 5
}
