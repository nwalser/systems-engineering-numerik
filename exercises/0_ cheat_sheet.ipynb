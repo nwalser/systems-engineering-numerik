{
 "cells": [
  {
   "cell_type": "code",
   "id": "initial_id",
   "metadata": {
    "collapsed": true,
    "ExecuteTime": {
     "end_time": "2024-06-11T13:34:32.823361Z",
     "start_time": "2024-06-11T13:34:32.815781Z"
    }
   },
   "source": [
    "import numpy as np\n",
    "import scipy\n",
    "from numerik import lu"
   ],
   "outputs": [],
   "execution_count": 11
  },
  {
   "metadata": {
    "ExecuteTime": {
     "end_time": "2024-06-11T13:34:32.830940Z",
     "start_time": "2024-06-11T13:34:32.823361Z"
    }
   },
   "cell_type": "code",
   "source": [
    "# NORM\n",
    "A = np.array([[1, 0],\n",
    "              [1, 1]])\n",
    "\n",
    "np.linalg.norm(A, 1) # first norm\n",
    "np.linalg.norm(A, 2) # second norm\n",
    "np.linalg.norm(A, np.inf) # infinity norm"
   ],
   "id": "72e32c729d0351e1",
   "outputs": [
    {
     "data": {
      "text/plain": [
       "2.0"
      ]
     },
     "execution_count": 12,
     "metadata": {},
     "output_type": "execute_result"
    }
   ],
   "execution_count": 12
  },
  {
   "metadata": {
    "ExecuteTime": {
     "end_time": "2024-06-11T13:34:32.836314Z",
     "start_time": "2024-06-11T13:34:32.832459Z"
    }
   },
   "cell_type": "code",
   "source": [
    "# COND\n",
    "A = np.array([[1, 0],\n",
    "              [1, 1]])\n",
    "\n",
    "cond_first = np.linalg.cond(A, 1) # first norm\n",
    "cond_euclid = np.linalg.cond(A, 2) # second/euclid norm\n",
    "cond_inf = np.linalg.cond(A, np.inf) # infinity norm"
   ],
   "id": "6fcdaa56b45ea068",
   "outputs": [],
   "execution_count": 13
  },
  {
   "metadata": {
    "ExecuteTime": {
     "end_time": "2024-06-11T13:34:32.841374Z",
     "start_time": "2024-06-11T13:34:32.836314Z"
    }
   },
   "cell_type": "code",
   "source": [
    "# RANK\n",
    "A = np.array([[1, 0],\n",
    "              [1, 1]])\n",
    "\n",
    "rank = np.linalg.matrix_rank(A)"
   ],
   "id": "13fe56cfc7462bf1",
   "outputs": [],
   "execution_count": 14
  },
  {
   "metadata": {
    "ExecuteTime": {
     "end_time": "2024-06-11T13:34:32.846562Z",
     "start_time": "2024-06-11T13:34:32.841374Z"
    }
   },
   "cell_type": "code",
   "source": [
    "# LINSOLVE EXACT\n",
    "x = np.array([5000, 6000])\n",
    "y = np.array([100, 110])\n",
    "\n",
    "# create matrix for model function: y = p1 + p2 * x\n",
    "A = np.vstack((np.ones_like(x), x)).T\n",
    "parameters = np.linalg.solve(A, y) # Solve: A*p = y for p\n",
    "p1, p2 = parameters"
   ],
   "id": "88904776050c7d3a",
   "outputs": [],
   "execution_count": 15
  },
  {
   "metadata": {
    "ExecuteTime": {
     "end_time": "2024-06-11T13:34:32.852583Z",
     "start_time": "2024-06-11T13:34:32.846562Z"
    }
   },
   "cell_type": "code",
   "source": [
    "# LINSOLVE LSTSQ\n",
    "x = np.array([-1, 0, 1, 2, 3])\n",
    "y = np.array([2, 6, 7, 8, 10])\n",
    "\n",
    "# create matrix for model function: y = p1 + p2 * x + p2 * x^2\n",
    "A = np.vstack((np.ones_like(x), x, x**2)).T\n",
    "parameters, residual, rank, singular_values = np.linalg.lstsq(A, y, rcond=None)\n",
    "p1, p2, p3 = parameters"
   ],
   "id": "ae399c5ce2ca91ed",
   "outputs": [],
   "execution_count": 16
  },
  {
   "metadata": {
    "ExecuteTime": {
     "end_time": "2024-06-11T13:34:32.858292Z",
     "start_time": "2024-06-11T13:34:32.853103Z"
    }
   },
   "cell_type": "code",
   "source": [
    "# LINSOLVE LSTSQ with QR\n",
    "x = np.array([5000, 6000])\n",
    "y = np.array([100, 110])\n",
    "\n",
    "# create matrix for model function: y = p1 + p2 * x\n",
    "A = np.vstack((np.ones_like(x), x)).T\n",
    "\n",
    "num_param = A.shape[1]\n",
    "q, r = scipy.linalg.qr(A) # Q*R*p = y\n",
    "parameters = lu.back_substitution(r[0:num_param], (q.T @ y)[0:num_param]) # solve for: R*p = Q.T * y\n",
    "p1, p2 = parameters"
   ],
   "id": "8ce3fc8f21fbd12d",
   "outputs": [],
   "execution_count": 17
  },
  {
   "metadata": {
    "ExecuteTime": {
     "end_time": "2024-06-11T13:34:32.862125Z",
     "start_time": "2024-06-11T13:34:32.858292Z"
    }
   },
   "cell_type": "code",
   "source": [
    "# INVERSE\n",
    "A = np.array([[1, 1/2, 1/3],\n",
    "              [1/2, 1/3, 1/4],\n",
    "              [1/3, 1/4, 1/5]])\n",
    "\n",
    "A_inv = np.linalg.inv(A)"
   ],
   "id": "c6d1d488981d7782",
   "outputs": [],
   "execution_count": 18
  },
  {
   "metadata": {
    "ExecuteTime": {
     "end_time": "2024-06-11T13:34:32.866010Z",
     "start_time": "2024-06-11T13:34:32.863158Z"
    }
   },
   "cell_type": "code",
   "source": [
    "# LU Decomposition\n",
    "A = np.array([[1, 0],\n",
    "              [1, 1]])\n",
    "\n",
    "p, l, u = scipy.linalg.lu(A, permute_l=False)"
   ],
   "id": "d8bfe42ff798868f",
   "outputs": [],
   "execution_count": 19
  },
  {
   "metadata": {
    "ExecuteTime": {
     "end_time": "2024-06-11T13:34:32.883623Z",
     "start_time": "2024-06-11T13:34:32.877559Z"
    }
   },
   "cell_type": "code",
   "source": [
    "# QR Decomposition\n",
    "A = np.array([[9, -7],\n",
    "              [-18, -4],\n",
    "              [18, -5]])\n",
    "\n",
    "q, r = scipy.linalg.qr(A) # Q*R*p = y"
   ],
   "id": "614d734a8090c37f",
   "outputs": [],
   "execution_count": 20
  }
 ],
 "metadata": {
  "kernelspec": {
   "display_name": "Python 3",
   "language": "python",
   "name": "python3"
  },
  "language_info": {
   "codemirror_mode": {
    "name": "ipython",
    "version": 2
   },
   "file_extension": ".py",
   "mimetype": "text/x-python",
   "name": "python",
   "nbconvert_exporter": "python",
   "pygments_lexer": "ipython2",
   "version": "2.7.6"
  }
 },
 "nbformat": 4,
 "nbformat_minor": 5
}
