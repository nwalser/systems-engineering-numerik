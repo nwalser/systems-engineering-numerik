{
 "cells": [
  {
   "cell_type": "code",
   "id": "initial_id",
   "metadata": {
    "collapsed": true,
    "ExecuteTime": {
     "end_time": "2024-06-10T11:10:49.076114Z",
     "start_time": "2024-06-10T11:10:49.072143Z"
    }
   },
   "source": [
    "import numpy as np\n",
    "import matplotlib.pyplot as plt"
   ],
   "outputs": [],
   "execution_count": 32
  },
  {
   "metadata": {
    "ExecuteTime": {
     "end_time": "2024-06-10T11:10:49.085607Z",
     "start_time": "2024-06-10T11:10:49.076114Z"
    }
   },
   "cell_type": "code",
   "source": [
    "A = np.array([[3.3, 1.2],\n",
    "              [6.9, 2.5]])\n",
    "\n",
    "print(f\"First cond: {np.linalg.cond(A, 1)}\") # first norm\n",
    "print(f\"Euclid cond: {np.linalg.cond(A, 2)}\") # second/euclid norm\n",
    "print(f\"Infinity Cond: {np.linalg.cond(A, np.inf)}\") # infinity norm"
   ],
   "id": "cec9676a6150762a",
   "outputs": [
    {
     "name": "stdout",
     "output_type": "stream",
     "text": [
      "First cond: 3196.000000000018\n",
      "Euclid cond: 2206.3328800922386\n",
      "Infinity Cond: 3196.0000000000186\n"
     ]
    }
   ],
   "execution_count": 33
  },
  {
   "metadata": {
    "ExecuteTime": {
     "end_time": "2024-06-10T11:10:49.091150Z",
     "start_time": "2024-06-10T11:10:49.085607Z"
    }
   },
   "cell_type": "code",
   "source": [
    "A = np.array([[3.31, 1.2],\n",
    "              [6.9, 2.5]])\n",
    "\n",
    "print(f\"First cond: {np.linalg.cond(A, 1)}\") # first norm\n",
    "print(f\"Euclid cond: {np.linalg.cond(A, 2)}\") # second/euclid norm\n",
    "print(f\"Infinity Cond: {np.linalg.cond(A, np.inf)}\") # infinity norm"
   ],
   "id": "b945d4033621bc77",
   "outputs": [
    {
     "name": "stdout",
     "output_type": "stream",
     "text": [
      "First cond: 19194.800000006977\n",
      "Euclid cond: 13251.219924534762\n",
      "Infinity Cond: 19194.800000006973\n"
     ]
    }
   ],
   "execution_count": 34
  },
  {
   "metadata": {
    "ExecuteTime": {
     "end_time": "2024-06-10T11:10:49.252903Z",
     "start_time": "2024-06-10T11:10:49.091150Z"
    }
   },
   "cell_type": "code",
   "source": [
    "xs = np.linspace(0, 4, 1000)\n",
    "ys = []\n",
    "\n",
    "for x in xs:\n",
    "    A = np.array([[x, 1.2],\n",
    "                  [6.9, 2.5]])\n",
    "    ys.append(np.linalg.cond(A, 2))\n",
    "\n",
    "plt.semilogy(xs, ys)\n",
    "plt.show()"
   ],
   "id": "f98e46c86a1df488",
   "outputs": [
    {
     "data": {
      "text/plain": [
       "<Figure size 640x480 with 1 Axes>"
      ],
      "image/png": "[encoded data removed]"
     },
     "metadata": {},
     "output_type": "display_data"
    }
   ],
   "execution_count": 35
  },
  {
   "metadata": {
    "ExecuteTime": {
     "end_time": "2024-06-10T11:10:49.256751Z",
     "start_time": "2024-06-10T11:10:49.252903Z"
    }
   },
   "cell_type": "code",
   "source": [
    "A = np.array([[6, -4],\n",
    "              [2, -3]])\n",
    "\n",
    "print(f\"First cond: {np.linalg.cond(A, 1)}\") # first norm\n",
    "print(f\"Euclid cond: {np.linalg.cond(A, 2)}\") # second/euclid norm\n",
    "print(f\"Infinity Cond: {np.linalg.cond(A, np.inf)}\") # infinity norm"
   ],
   "id": "d95828e86b3c748c",
   "outputs": [
    {
     "name": "stdout",
     "output_type": "stream",
     "text": [
      "First cond: 8.0\n",
      "Euclid cond: 6.342329219213248\n",
      "Infinity Cond: 7.999999999999999\n"
     ]
    }
   ],
   "execution_count": 36
  }
 ],
 "metadata": {
  "kernelspec": {
   "display_name": "Python 3",
   "language": "python",
   "name": "python3"
  },
  "language_info": {
   "codemirror_mode": {
    "name": "ipython",
    "version": 2
   },
   "file_extension": ".py",
   "mimetype": "text/x-python",
   "name": "python",
   "nbconvert_exporter": "python",
   "pygments_lexer": "ipython2",
   "version": "2.7.6"
  }
 },
 "nbformat": 4,
 "nbformat_minor": 5
}
