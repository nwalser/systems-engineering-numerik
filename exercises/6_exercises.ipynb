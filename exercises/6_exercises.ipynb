{
 "cells": [
  {
   "cell_type": "code",
   "id": "initial_id",
   "metadata": {
    "collapsed": true,
    "ExecuteTime": {
     "end_time": "2024-06-16T10:46:20.764273Z",
     "start_time": "2024-06-16T10:46:20.760524Z"
    }
   },
   "source": [
    "import matplotlib.pyplot as plt\n",
    "import numpy as np\n",
    "import scipy"
   ],
   "outputs": [],
   "execution_count": 31
  },
  {
   "metadata": {
    "ExecuteTime": {
     "end_time": "2024-06-16T10:46:20.774635Z",
     "start_time": "2024-06-16T10:46:20.765830Z"
    }
   },
   "cell_type": "code",
   "source": [
    "def back_substitution(U, y):\n",
    "    n = U.shape[1]\n",
    "    x = np.zeros_like(y, dtype=np.double)\n",
    "    x[-1] = y[-1] / U[-1, -1]\n",
    "    for i in range(n - 2, -1, -1):\n",
    "        x[i] = (y[i] - np.dot(U[i, i:], x[i:])) / U[i, i]\n",
    "\n",
    "    return x\n",
    "\n",
    "def linsolve_qr(A, b):\n",
    "    num_param = A.shape[1]\n",
    "    q, r = scipy.linalg.qr(A) # Q*R*p = y\n",
    "    return back_substitution(r[0:num_param], (q.T @ b)[0:num_param]) # solve for: R*p = Q.T * y\n",
    "\n",
    "\n",
    "def gauss_newton(f, df, x, tolerance=1e-14, max_step=100):\n",
    "    step = 0\n",
    "    error = np.linalg.norm(f(x))\n",
    "    while error > tolerance and step < max_step:\n",
    "        # print(step, x, error)\n",
    "        x += linsolve_qr(df(x), -f(x))\n",
    "        error = np.linalg.norm(f(x))\n",
    "        step += 1\n",
    "\n",
    "    return x"
   ],
   "id": "3d6d5794b5b38d31",
   "outputs": [],
   "execution_count": 32
  },
  {
   "metadata": {
    "ExecuteTime": {
     "end_time": "2024-06-16T10:46:20.782090Z",
     "start_time": "2024-06-16T10:46:20.776193Z"
    }
   },
   "cell_type": "code",
   "source": [
    "p1 = [0, 5]\n",
    "p2 = [4, -1]\n",
    "p3 = [-2, -3]\n",
    "\n",
    "# search for m, n, R\n",
    "def f(p):\n",
    "    (m, n, r) = p\n",
    "    return np.array([\n",
    "        (p1[0]-m)**2 + (p1[1]-n)**2 - r**2,\n",
    "        (p2[0]-m)**2 + (p2[1]-n)**2 - r**2,\n",
    "        (p3[0]-m)**2 + (p3[1]-n)**2 - r**2,\n",
    "    ])\n",
    "\n",
    "def df(p):\n",
    "    (m, n, r) = p\n",
    "    return np.array([\n",
    "        [2 * (m - p1[0]), 2 * (n - p1[1]), -2 * r],\n",
    "        [2 * (m - p2[0]), 2 * (n - p2[1]), -2 * r],\n",
    "        [2 * (m - p3[0]), 2 * (n - p3[1]), -2 * r],\n",
    "    ])\n",
    "\n",
    "(m, n, r) = gauss_newton(f, df, np.array([1, 1, 1], dtype=np.float64))\n",
    "print((m, n, r))"
   ],
   "id": "3d69e1e0f26f9603",
   "outputs": [
    {
     "name": "stdout",
     "output_type": "stream",
     "text": [
      "(0.0909090909090908, 0.7272727272727272, 4.273694281288421)\n"
     ]
    }
   ],
   "execution_count": 33
  },
  {
   "metadata": {
    "ExecuteTime": {
     "end_time": "2024-06-16T10:46:20.884722Z",
     "start_time": "2024-06-16T10:46:20.783113Z"
    }
   },
   "cell_type": "code",
   "source": [
    "# example solve RWP\n",
    "import numpy as np\n",
    "import scipy.linalg\n",
    "\n",
    "# Define parameters\n",
    "epsilon = 1e-2\n",
    "N = 100\n",
    "h = 1 / N\n",
    "x = np.linspace(0, 1, N+1)\n",
    "\n",
    "def f(u):\n",
    "    F = np.zeros(N-1)\n",
    "    for j in range(1, N):\n",
    "        F[j-1] = -epsilon * (u[j-1] - 2*u[j] + u[j+1]) / h**2 + u[j]**3 - 1\n",
    "    return F\n",
    "\n",
    "def df(u):\n",
    "    J = np.zeros((N-1, N-1))\n",
    "    for j in range(1, N):\n",
    "        if j > 1:\n",
    "            J[j-1, j-2] = -epsilon / h**2\n",
    "        J[j-1, j-1] = 2*epsilon / h**2 + 3*u[j]**2\n",
    "        if j < N-1:\n",
    "            J[j-1, j] = -epsilon / h**2\n",
    "    return J\n",
    "\n",
    "# Define initial guess\n",
    "u_initial = np.zeros(N+1)\n",
    "\n",
    "# Use the given gauss_newton function to solve the system\n",
    "def gauss_newton_solve(u_initial, tolerance=1e-14, max_step=100):\n",
    "    u = u_initial.copy()\n",
    "    u[1:-1] = gauss_newton(lambda v: f(np.concatenate(([0], v, [0]))), \n",
    "                           lambda v: df(np.concatenate(([0], v, [0]))), \n",
    "                           u[1:-1], tolerance, max_step)\n",
    "    return u\n",
    "\n",
    "\n",
    "# Solve the system\n",
    "solution = gauss_newton_solve(u_initial)\n",
    "\n",
    "plt.plot(solution)\n",
    "plt.show()"
   ],
   "id": "c076df086012b306",
   "outputs": [
    {
     "data": {
      "text/plain": [
       "<Figure size 640x480 with 1 Axes>"
      ],
      "image/png": "[encoded data removed]"
     },
     "metadata": {},
     "output_type": "display_data"
    }
   ],
   "execution_count": 34
  }
 ],
 "metadata": {
  "kernelspec": {
   "display_name": "Python 3",
   "language": "python",
   "name": "python3"
  },
  "language_info": {
   "codemirror_mode": {
    "name": "ipython",
    "version": 2
   },
   "file_extension": ".py",
   "mimetype": "text/x-python",
   "name": "python",
   "nbconvert_exporter": "python",
   "pygments_lexer": "ipython2",
   "version": "2.7.6"
  }
 },
 "nbformat": 4,
 "nbformat_minor": 5
}
