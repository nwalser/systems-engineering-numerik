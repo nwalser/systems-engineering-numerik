{
 "cells": [
  {
   "cell_type": "code",
   "metadata": {
    "ExecuteTime": {
     "end_time": "2024-04-15T11:28:03.006926Z",
     "start_time": "2024-04-15T11:28:02.928700Z"
    }
   },
   "source": [
    "import numpy as np\n",
    "import numpy.linalg as lin\n",
    "import numpy.random as rnd\n",
    "from numerik import lu"
   ],
   "outputs": [],
   "execution_count": 1
  },
  {
   "metadata": {
    "ExecuteTime": {
     "end_time": "2024-04-15T11:28:03.022528Z",
     "start_time": "2024-04-15T11:28:03.006926Z"
    }
   },
   "cell_type": "code",
   "source": [
    "# random orthogonal matrix\n",
    "def rndOrtho(n):\n",
    "    S = rnd.rand(n,n)\n",
    "    S = S - S.T\n",
    "    O = lin.solve(S - np.identity(n), S + np.identity(n))\n",
    "    return O\n",
    "\n",
    "# random matrix with specified condition number\n",
    "def rndCond(n, cond):\n",
    "    d = np.logspace(-np.log10(cond)/2, np.log10(cond)/2,n)\n",
    "    A = np.diag(d)\n",
    "    U,V = rndOrtho(n), rndOrtho(n)\n",
    "    return U@A@V.T"
   ],
   "outputs": [],
   "execution_count": 2
  },
  {
   "cell_type": "code",
   "metadata": {
    "ExecuteTime": {
     "end_time": "2024-04-15T11:28:03.415751Z",
     "start_time": "2024-04-15T11:28:03.022528Z"
    }
   },
   "source": [
    "n = 6 # size of test matrix\n",
    "\n",
    "# test fbSubs\n",
    "for k in range(1000):\n",
    "    Lu = np.array( np.random.rand(n,n) )\n",
    "    rhs = np.array(np.random.rand(n))\n",
    "    x = lu.fb_subs(Lu, rhs)\n",
    "\n",
    "    L,R = np.tril(Lu,-1)+np.identity(n), np.triu(Lu)\n",
    "\n",
    "    assert( np.linalg.norm(rhs - L@R@x) < 1e-10)\n",
    "\n",
    "# test LU\n",
    "for k in range(1000):\n",
    "    A = np.array( np.random.rand(n,n) )\n",
    "    Lu = lu.lu_decomposition(A.copy())\n",
    "    L,R = np.tril(Lu,-1)+np.identity(n), np.triu(Lu)  # Matrizen L, R extrahieren\n",
    "    assert( np.linalg.norm(L@R - A) < 1e-8)\n",
    "\n",
    "# test linsolve\n",
    "for k in range(1000):\n",
    "    A = np.random.rand(n,n)\n",
    "    rhs = np.random.rand(n)\n",
    "    x = lu.linsolve(A.copy(), rhs)\n",
    "    assert( np.linalg.norm(rhs - A @ x) < 1e-10)\n",
    "\n",
    "for k in range(1000):\n",
    "    A = rndCond(n, 1e14)\n",
    "    # code\n",
    "\n",
    "    # new comment"
   ],
   "outputs": [],
   "execution_count": 3
  }
 ],
 "metadata": {
  "kernelspec": {
   "display_name": ".venv",
   "language": "python",
   "name": "python3"
  },
  "language_info": {
   "codemirror_mode": {
    "name": "ipython",
    "version": 3
   },
   "file_extension": ".py",
   "mimetype": "text/x-python",
   "name": "python",
   "nbconvert_exporter": "python",
   "pygments_lexer": "ipython3",
   "version": "3.11.0"
  }
 },
 "nbformat": 4,
 "nbformat_minor": 2
}
