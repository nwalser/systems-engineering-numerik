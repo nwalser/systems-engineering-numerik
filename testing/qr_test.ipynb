{
 "cells": [
  {
   "metadata": {
    "ExecuteTime": {
     "end_time": "2024-04-15T13:03:37.954624Z",
     "start_time": "2024-04-15T13:03:37.880143Z"
    }
   },
   "cell_type": "code",
   "source": [
    "import numpy as np\n",
    "from numerik import qr"
   ],
   "id": "d5a6e91c579dae0c",
   "outputs": [],
   "execution_count": 1
  },
  {
   "cell_type": "code",
   "id": "initial_id",
   "metadata": {
    "collapsed": true,
    "ExecuteTime": {
     "end_time": "2024-04-15T13:03:37.963564Z",
     "start_time": "2024-04-15T13:03:37.954624Z"
    }
   },
   "source": [
    "# example testcase\n",
    "A = np.array([  [-1,  7, -8, -9,  6],\n",
    "                [-6, -8,  0,  3,  8],\n",
    "                [-4, -2,  8,  0, -2],\n",
    "                [-1, -9,  4, -8,  2],\n",
    "                [-3, -5, -5,  7, -4],\n",
    "                [-7, -4,  7, -1,  5],\n",
    "                [-9, -7,  6, -5, -8],\n",
    "                [-4, -3, -5,  3, -6],\n",
    "                [ 5,  7,  5, -4, -5],\n",
    "                [ 4, -6, -8, -2, -5]],dtype=float)\n",
    "\n",
    "Q1, R1 = qr.qr_decomposition(A)\n",
    "Q2, R2 = np.linalg.qr(A)\n",
    "\n",
    "# check equality and function of matrices\n",
    "assert(np.sum(Q1-Q2) < 1e-8)\n",
    "assert(np.sum(R1-R2) < 1e-8)\n",
    "assert(np.sum(A-Q1@R1) < 1e-8)"
   ],
   "outputs": [],
   "execution_count": 2
  }
 ],
 "metadata": {
  "kernelspec": {
   "display_name": "Python 3",
   "language": "python",
   "name": "python3"
  },
  "language_info": {
   "codemirror_mode": {
    "name": "ipython",
    "version": 2
   },
   "file_extension": ".py",
   "mimetype": "text/x-python",
   "name": "python",
   "nbconvert_exporter": "python",
   "pygments_lexer": "ipython2",
   "version": "2.7.6"
  }
 },
 "nbformat": 4,
 "nbformat_minor": 5
}
