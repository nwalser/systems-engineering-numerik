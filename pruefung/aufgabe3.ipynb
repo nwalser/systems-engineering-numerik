{
 "cells": [
  {
   "cell_type": "code",
   "id": "initial_id",
   "metadata": {
    "collapsed": true,
    "ExecuteTime": {
     "end_time": "2024-06-18T08:21:52.589463Z",
     "start_time": "2024-06-18T08:21:52.573758Z"
    }
   },
   "source": [
    "import numpy as np\n",
    "import scipy"
   ],
   "outputs": [],
   "execution_count": 47
  },
  {
   "metadata": {
    "ExecuteTime": {
     "end_time": "2024-06-18T08:21:52.605184Z",
     "start_time": "2024-06-18T08:21:52.589463Z"
    }
   },
   "cell_type": "code",
   "source": [
    "def back_substitution(U, y):\n",
    "    n = U.shape[1]\n",
    "    x = np.zeros_like(y, dtype=np.double)\n",
    "    x[-1] = y[-1] / U[-1, -1]\n",
    "    for i in range(n - 2, -1, -1):\n",
    "        x[i] = (y[i] - np.dot(U[i, i:], x[i:])) / U[i, i]\n",
    "\n",
    "    return x\n",
    "\n",
    "def linsolve_qr(A, b):\n",
    "    num_param = A.shape[1]\n",
    "    q, r = scipy.linalg.qr(A) # Q*R*p = y\n",
    "    return back_substitution(r[0:num_param], (q.T @ b)[0:num_param]) # solve for: R*p = Q.T * y\n",
    "\n",
    "\n",
    "def gauss_newton(f, df, x, tolerance=1e-14, max_step=1000):\n",
    "    step = 0\n",
    "    error = np.linalg.norm(f(x))\n",
    "    while error > tolerance and step < max_step:\n",
    "        # print(step, x, error)\n",
    "        x += linsolve_qr(df(x), -f(x))\n",
    "        error = np.linalg.norm(f(x))\n",
    "        step += 1\n",
    "\n",
    "    return x"
   ],
   "id": "2f0557a6a0087ef6",
   "outputs": [],
   "execution_count": 48
  },
  {
   "metadata": {
    "ExecuteTime": {
     "end_time": "2024-06-18T08:21:52.620635Z",
     "start_time": "2024-06-18T08:21:52.605184Z"
    }
   },
   "cell_type": "code",
   "source": [
    "def f(p):\n",
    "    (k, l) = p\n",
    "    def row(x, y, k, l):\n",
    "        return 1-np.exp(-(x/l)**k)-y\n",
    "\n",
    "    return np.array([\n",
    "        row(0.26, 0.004, k, l),\n",
    "        row(1.7, 0.071, k, l),\n",
    "        row(4.0, 0.226, k, l),\n",
    "        row(12.1, 0.738, k, l),\n",
    "        row(28.0, 0.991, k, l),\n",
    "    ])\n",
    "\n",
    "def df(p):\n",
    "    (k, l) = p\n",
    "    \n",
    "    def row(x, y, k, l):\n",
    "        return np.array([\n",
    "            -np.exp(-(x/l)**k) * -(x/l)**k * -np.log(x/l),\n",
    "            np.exp(-(x/l)**k) * -(x/l)**k * (k/l)\n",
    "        ])\n",
    "    \n",
    "    return np.array([\n",
    "        row(0.26, 0.004, k, l),\n",
    "        row(1.7, 0.071, k, l),\n",
    "        row(4.0, 0.226, k, l),\n",
    "        row(12.1, 0.738, k, l),\n",
    "        row(28.0, 0.991, k, l),\n",
    "    ])\n",
    "\n",
    "# search for m, n, R\n",
    "initial_guess = np.array([1, 15], dtype=np.float64)\n",
    "\n",
    "(k, l) = gauss_newton(f, df, initial_guess)\n",
    "print((k, l))\n",
    "\n",
    "errors = f((k, l))\n",
    "resid = np.sum(errors**2)\n",
    "print(resid)"
   ],
   "id": "5c6dc773348ee049",
   "outputs": [
    {
     "name": "stdout",
     "output_type": "stream",
     "text": [
      "(-24665.29053674514, -2456.1270191014178)\n",
      "nan\n"
     ]
    },
    {
     "name": "stderr",
     "output_type": "stream",
     "text": [
      "C:\\Users\\NathanielWalser\\AppData\\Local\\Temp\\ipykernel_18272\\3421999035.py:4: RuntimeWarning: invalid value encountered in scalar power\n",
      "  return 1-np.exp(-(x/l)**k)-y\n"
     ]
    }
   ],
   "execution_count": 49
  },
  {
   "metadata": {
    "ExecuteTime": {
     "end_time": "2024-06-18T08:21:52.636260Z",
     "start_time": "2024-06-18T08:21:52.620635Z"
    }
   },
   "cell_type": "code",
   "source": [
    "# punkte abzug wegen nutzen der integrierten solver besser als keine punkte :D\n",
    "loss_function = lambda p: np.sum(f(p)**2)\n",
    "optimization = scipy.optimize.minimize(loss_function, np.array([1.0, 15.0]), method=\"Nelder-Mead\")\n",
    "print(optimization)\n",
    "\n",
    "print(optimization.x)"
   ],
   "id": "ce2ac6db707ea2a1",
   "outputs": [
    {
     "name": "stdout",
     "output_type": "stream",
     "text": [
      "       message: Optimization terminated successfully.\n",
      "       success: True\n",
      "        status: 0\n",
      "           fun: 3.6566723972667525e-06\n",
      "             x: [ 1.490e+00  9.948e+00]\n",
      "           nit: 44\n",
      "          nfev: 83\n",
      " final_simplex: (array([[ 1.490e+00,  9.948e+00],\n",
      "                       [ 1.490e+00,  9.948e+00],\n",
      "                       [ 1.490e+00,  9.948e+00]]), array([ 3.657e-06,  3.657e-06,  3.657e-06]))\n",
      "[1.48994448 9.94787235]\n"
     ]
    }
   ],
   "execution_count": 50
  }
 ],
 "metadata": {
  "kernelspec": {
   "display_name": "Python 3",
   "language": "python",
   "name": "python3"
  },
  "language_info": {
   "codemirror_mode": {
    "name": "ipython",
    "version": 2
   },
   "file_extension": ".py",
   "mimetype": "text/x-python",
   "name": "python",
   "nbconvert_exporter": "python",
   "pygments_lexer": "ipython2",
   "version": "2.7.6"
  }
 },
 "nbformat": 4,
 "nbformat_minor": 5
}
