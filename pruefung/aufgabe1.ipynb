{
 "cells": [
  {
   "cell_type": "code",
   "id": "initial_id",
   "metadata": {
    "collapsed": true,
    "ExecuteTime": {
     "end_time": "2024-06-18T08:13:06.920198Z",
     "start_time": "2024-06-18T08:13:06.889094Z"
    }
   },
   "source": [
    "import numpy as np\n",
    "import scipy.linalg\n",
    "\n",
    "def linsolve_cholesky(A, b):\n",
    "    L = np.linalg.cholesky(A.T @ A)\n",
    "    print(L)\n",
    "    x = scipy.linalg.solve_triangular(L, A.T @ b, lower=True)\n",
    "    return scipy.linalg.solve_triangular(L.T, x, lower=False)\n",
    "\n",
    "\n",
    "A = np.array([\n",
    "    [1, -3, -3**2, np.sin(np.pi * -3)],\n",
    "    [1, -2.12, -2.12**2, np.sin(np.pi * -2.12)],\n",
    "    [1, -0.8, -0.8**2, np.sin(np.pi * -0.8)],\n",
    "    [1, -0.2, -0.2**2, np.sin(np.pi * -0.2)],\n",
    "    [1, 1.11, 1.11**2, np.sin(np.pi * 1.11)],\n",
    "    [1, 2.0, 2**2, np.sin(np.pi * 2)],\n",
    "])\n",
    "y = np.array([41.7, 21.9, 4.30, 1.13, 4.71, 15.3], dtype=np.float64)\n",
    "y_one = y\n",
    "\n",
    "\n",
    "p = linsolve_cholesky(A, y)\n",
    "p_one = p\n",
    "a, b, c, d = p\n",
    "print((a, b, c, d))\n",
    "\n",
    "print(y)\n",
    "print((A @ p))\n",
    "resid = np.sum(np.power((A @ p) - y, 2))\n",
    "print(resid)"
   ],
   "outputs": [
    {
     "name": "stdout",
     "output_type": "stream",
     "text": [
      "[[ 2.44948974  0.          0.          0.        ]\n",
      " [-1.22882735  4.23042354  0.          0.        ]\n",
      " [-3.65067869  9.91146744  2.75032001  0.        ]\n",
      " [-0.76850004  0.01131242 -0.46570416  0.36556999]]\n",
      "(26.412631195719467, -6.306609918842886, 0.38177224074209215, 45.15685930760965)\n",
      "[41.7  21.9   4.3   1.13  4.71 15.3 ]\n",
      "[41.89651079 21.44345843  4.67104896  1.11614635  4.58633516 15.32650032]\n",
      "0.4009112042168968\n"
     ]
    }
   ],
   "execution_count": 14
  },
  {
   "metadata": {
    "ExecuteTime": {
     "end_time": "2024-06-18T08:13:06.935827Z",
     "start_time": "2024-06-18T08:13:06.920198Z"
    }
   },
   "cell_type": "code",
   "source": [
    "def back_substitution(U, y):\n",
    "    n = U.shape[1]\n",
    "    x = np.zeros_like(y, dtype=np.double)\n",
    "    x[-1] = y[-1] / U[-1, -1]\n",
    "    for i in range(n - 2, -1, -1):\n",
    "        x[i] = (y[i] - np.dot(U[i, i:], x[i:])) / U[i, i]\n",
    "\n",
    "    return x\n",
    "\n",
    "def linsolve_qr(A, b):\n",
    "    num_param = A.shape[1]\n",
    "    q, r = scipy.linalg.qr(A) # Q*R*p = y\n",
    "    print(q)\n",
    "    return back_substitution(r[0:num_param], (q.T @ b)[0:num_param]) # solve for: R*p = Q.T * y\n",
    "\n",
    "\n",
    "A = np.array([\n",
    "    [1, -3, -3**2, np.sin(np.pi * -3)],\n",
    "    [1, -2.12, -2.12**2, np.sin(np.pi * -2.12)],\n",
    "    [1, -0.8, -0.8**2, np.sin(np.pi * -0.8)],\n",
    "    [1, -0.2, -0.2**2, np.sin(np.pi * -0.2)],\n",
    "    [1, 1.11, 1.11**2, np.sin(np.pi * 1.11)],\n",
    "    [1, 2.0, 2**2, np.sin(np.pi * 2)],\n",
    "])\n",
    "y = np.array([41.6, 22, 4.28, 1.12, 4.66, 15.3], dtype=np.float64)\n",
    "y_two = y\n",
    "\n",
    "p = linsolve_qr(A, y)\n",
    "p_two = p\n",
    "a, b, c, d = p\n",
    "print((a, b, c, d))\n",
    "\n",
    "print(y)\n",
    "print((A @ p))\n",
    "resid = np.sum(np.power((A @ p) - y, 2))\n",
    "print(resid)"
   ],
   "id": "f4c4002c449375ed",
   "outputs": [
    {
     "name": "stdout",
     "output_type": "stream",
     "text": [
      "[[-0.40824829 -0.59056341  0.60220872  0.1093318  -0.25792937 -0.2084031 ]\n",
      " [-0.40824829 -0.38254641 -0.28635926  0.22786472  0.52235944  0.52934699]\n",
      " [-0.40824829 -0.07052091 -0.56333411 -0.02982089  0.0551038  -0.71210189]\n",
      " [-0.40824829  0.07130886 -0.27037142 -0.40741858 -0.65039555  0.40760692]\n",
      " [-0.40824829  0.38097052  0.38304401 -0.56813738  0.46528708 -0.04690344]\n",
      " [-0.40824829  0.59135135  0.13481206  0.66818033 -0.1344254   0.03045451]]\n",
      "(26.455311510588434, -6.435226475792762, 0.43677546320665256, 45.279765361717104)\n",
      "[41.6  22.    4.28  1.12  4.66 15.3 ]\n",
      "[41.83001177 21.46635463  4.70917809  1.11010748  4.51238762 15.33196041]\n",
      "0.5447853718831409\n"
     ]
    }
   ],
   "execution_count": 15
  },
  {
   "metadata": {
    "ExecuteTime": {
     "end_time": "2024-06-18T08:13:06.951608Z",
     "start_time": "2024-06-18T08:13:06.935827Z"
    }
   },
   "cell_type": "code",
   "source": [
    "pdiff = np.linalg.norm(p_one-p_two, np.inf)\n",
    "ydiff = np.linalg.norm(y_one-y_two, np.inf)\n",
    "\n",
    "factor = pdiff / ydiff\n",
    "print(factor)"
   ],
   "id": "5220194e5d1b77bb",
   "outputs": [
    {
     "name": "stdout",
     "output_type": "stream",
     "text": [
      "1.286165569498738\n"
     ]
    }
   ],
   "execution_count": 16
  }
 ],
 "metadata": {
  "kernelspec": {
   "display_name": "Python 3",
   "language": "python",
   "name": "python3"
  },
  "language_info": {
   "codemirror_mode": {
    "name": "ipython",
    "version": 2
   },
   "file_extension": ".py",
   "mimetype": "text/x-python",
   "name": "python",
   "nbconvert_exporter": "python",
   "pygments_lexer": "ipython2",
   "version": "2.7.6"
  }
 },
 "nbformat": 4,
 "nbformat_minor": 5
}
