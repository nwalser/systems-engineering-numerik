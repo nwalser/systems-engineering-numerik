{
 "cells": [
  {
   "metadata": {
    "jupyter": {
     "is_executing": true
    }
   },
   "cell_type": "code",
   "source": [
    "import numpy as np\n",
    "import matplotlib.pyplot as plt\n",
    "from matplotlib.colors import LogNorm\n",
    "from model import get_default_dual_pipeline_model"
   ],
   "id": "5260c52e920b8692",
   "outputs": [],
   "execution_count": null
  },
  {
   "cell_type": "code",
   "id": "initial_id",
   "metadata": {
    "collapsed": true,
    "jupyter": {
     "is_executing": true
    }
   },
   "source": [
    "def plot_multi_pipeline_error_field(x0):\n",
    "    # configure model\n",
    "    model = get_default_dual_pipeline_model()\n",
    "\n",
    "    powers = np.linspace(model.min_power, model.max_power, 9)\n",
    "    \n",
    "    fig = plt.figure(figsize=(10, 10))\n",
    "    gs = fig.add_gridspec(3, 3, hspace=0.4)\n",
    "    axs = gs.subplots()\n",
    "    \n",
    "    for p, power in enumerate(powers):\n",
    "        model.power = power\n",
    "        flow_rates_pipe1 = np.linspace(-1, 1, 100)\n",
    "        flow_rates_pipe2 = np.linspace(-1, 1, 100)\n",
    "        differential_pressures = np.zeros((len(flow_rates_pipe1), len(flow_rates_pipe2)))\n",
    "        \n",
    "        # calculate pressure for different flow rate and power combinations\n",
    "        for i, frp1 in enumerate(flow_rates_pipe1):\n",
    "            for j, frp2 in enumerate(flow_rates_pipe2):\n",
    "                model.pipelines[0].flow_rate = frp1\n",
    "                model.pipelines[1].flow_rate = frp2\n",
    "                \n",
    "                differential_pressure = np.sum(np.power(model.differential_pressures(), 2))\n",
    "                differential_pressures[j, i] = differential_pressure\n",
    "                \n",
    "        # optimize the flow_rates for balance\n",
    "        model.pipelines[0].flow_rate = x0[0]\n",
    "        model.pipelines[1].flow_rate = x0[1]\n",
    "        res = model.optimize_flow_rates()\n",
    "            \n",
    "        # plot\n",
    "        i = int(p/3)\n",
    "        j = p%3\n",
    "        \n",
    "        axs[i, j].imshow(differential_pressures, aspect='auto', origin='lower', norm=LogNorm(),\n",
    "                   extent=(min(flow_rates_pipe1), max(flow_rates_pipe1), min(flow_rates_pipe2), max(flow_rates_pipe2)))\n",
    "        \n",
    "        # plot iterations\n",
    "        axs[i, j].scatter([x[0] for x in res.xn], [x[1] for x in res.xn], s=0.5, color=\"blue\")\n",
    "        axs[i, j].scatter(res.xn[0][0], res.xn[0][1], color='blue')\n",
    "        axs[i, j].scatter(model.pipelines[0].flow_rate, model.pipelines[1].flow_rate, color='red')\n",
    "\n",
    "        axs[i, j].axhline(0, color='black')\n",
    "        axs[i, j].axvline(0, color='black')\n",
    "\n",
    "        axs[i, j].title.set_text(f\"P: {power/1000:.0f}kW\")\n",
    "    \n",
    "    fig.suptitle(f\"Error Function in System vs Pipe flow rates x0=[{x0[0]}, {x0[1]}]\")\n",
    "    fig.supxlabel('Flow Rate Pipe 1 [$m^3$]')\n",
    "    fig.supylabel('Flow Rate Pipe 2 [$m^3$]')\n",
    "    plt.show()"
   ],
   "outputs": [],
   "execution_count": null
  },
  {
   "metadata": {
    "jupyter": {
     "is_executing": true
    }
   },
   "cell_type": "code",
   "source": [
    "plot_multi_pipeline_error_field([0.0, 0.0])\n",
    "plot_multi_pipeline_error_field([0.2, 0.2])\n",
    "plot_multi_pipeline_error_field([-0.5, -0.5])"
   ],
   "id": "a7f4a27f19281d3d",
   "outputs": [],
   "execution_count": null
  }
 ],
 "metadata": {
  "kernelspec": {
   "display_name": "Python 3",
   "language": "python",
   "name": "python3"
  },
  "language_info": {
   "codemirror_mode": {
    "name": "ipython",
    "version": 2
   },
   "file_extension": ".py",
   "mimetype": "text/x-python",
   "name": "python",
   "nbconvert_exporter": "python",
   "pygments_lexer": "ipython2",
   "version": "2.7.6"
  }
 },
 "nbformat": 4,
 "nbformat_minor": 5
}
