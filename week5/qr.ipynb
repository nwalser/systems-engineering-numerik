{
 "cells": [
  {
   "cell_type": "code",
   "execution_count": 204,
   "metadata": {},
   "outputs": [],
   "source": [
    "import numpy as np\n",
    "\n",
    "# configure formatting\n",
    "np.set_printoptions(formatter={'float': lambda x: \"{0:0.1f}\".format(x)})\n",
    "\n",
    "\n",
    "def sign(x):\n",
    "    if x >= 0:\n",
    "        return 1\n",
    "    else:\n",
    "        return -1\n",
    "\n",
    "def householder(w):\n",
    "    v = np.zeros_like(w)\n",
    "\n",
    "    v[0] = w[0] + sign(w[0]) * np.linalg.norm(w)\n",
    "    v[1:] = w[1:]\n",
    "    \n",
    "    H = np.eye(len(w)) - 2 * np.outer(v, v) / np.dot(v, v)\n",
    "    \n",
    "    return H\n",
    "\n",
    "\n",
    "def qrDecomposition(A):\n",
    "    (rows, columns) = A.shape\n",
    "    \n",
    "    Q = np.identity(rows)\n",
    "    R = np.copy(A)\n",
    "\n",
    "    for column in range(columns):\n",
    "        # get needed vector and apply householder transformation\n",
    "        y = R[column:, column]\n",
    "        Hk = householder(y)\n",
    "\n",
    "        # fill up into correct matrix dimension\n",
    "        Qk = np.identity(rows)\n",
    "        Qk[column:,column:] = Hk\n",
    "\n",
    "        # apply to matrices\n",
    "        Q = Qk@Q\n",
    "        R = Qk@R\n",
    "\n",
    "    # cut into needed shapes\n",
    "    R = R[0:columns,:] \n",
    "    Q = Q.T[:,0:columns]\n",
    "\n",
    "    return Q, R\n",
    "\n"
   ]
  },
  {
   "cell_type": "code",
   "execution_count": 205,
   "metadata": {},
   "outputs": [
    {
     "name": "stdout",
     "output_type": "stream",
     "text": [
      "[[-0.1 0.5 0.5 -0.6 0.2]\n",
      " [-0.4 -0.2 0.1 0.1 0.5]\n",
      " [-0.3 0.1 -0.3 0.1 -0.1]\n",
      " [-0.1 -0.5 -0.2 -0.5 0.2]\n",
      " [-0.2 -0.2 0.3 0.4 -0.2]\n",
      " [-0.4 0.1 -0.2 -0.0 0.3]\n",
      " [-0.6 -0.0 -0.1 -0.3 -0.5]\n",
      " [-0.3 -0.0 0.4 0.1 -0.4]\n",
      " [0.3 0.2 -0.4 -0.1 -0.3]\n",
      " [0.3 -0.6 0.3 -0.2 -0.2]]\n",
      "[[15.8 11.8 -6.5 -0.6 -1.3]\n",
      " [0.0 15.6 1.4 -1.8 3.1]\n",
      " [0.0 0.0 -18.0 2.9 0.9]\n",
      " [-0.0 -0.0 -0.0 15.7 -1.6]\n",
      " [0.0 0.0 0.0 0.0 16.9]]\n"
     ]
    }
   ],
   "source": [
    "# example testcase\n",
    "A = np.array([  [-1,  7, -8, -9,  6],\n",
    "                [-6, -8,  0,  3,  8],\n",
    "                [-4, -2,  8,  0, -2],\n",
    "                [-1, -9,  4, -8,  2],\n",
    "                [-3, -5, -5,  7, -4],\n",
    "                [-7, -4,  7, -1,  5],\n",
    "                [-9, -7,  6, -5, -8],\n",
    "                [-4, -3, -5,  3, -6],\n",
    "                [ 5,  7,  5, -4, -5],\n",
    "                [ 4, -6, -8, -2, -5]],dtype=float)\n",
    "\n",
    "Q, R = qrDecomposition(A)\n",
    "print(Q)\n",
    "print(R)\n",
    "\n",
    "assert(np.sum(A-Q@R) < 1e-8)"
   ]
  },
  {
   "cell_type": "code",
   "execution_count": 206,
   "metadata": {},
   "outputs": [
    {
     "name": "stdout",
     "output_type": "stream",
     "text": [
      "[[-0.1 0.5 0.5 -0.6 0.2]\n",
      " [-0.4 -0.2 0.1 0.1 0.5]\n",
      " [-0.3 0.1 -0.3 0.1 -0.1]\n",
      " [-0.1 -0.5 -0.2 -0.5 0.2]\n",
      " [-0.2 -0.2 0.3 0.4 -0.2]\n",
      " [-0.4 0.1 -0.2 -0.0 0.3]\n",
      " [-0.6 -0.0 -0.1 -0.3 -0.5]\n",
      " [-0.3 -0.0 0.4 0.1 -0.4]\n",
      " [0.3 0.2 -0.4 -0.1 -0.3]\n",
      " [0.3 -0.6 0.3 -0.2 -0.2]]\n",
      "[[15.8 11.8 -6.5 -0.6 -1.3]\n",
      " [0.0 15.6 1.4 -1.8 3.1]\n",
      " [0.0 0.0 -18.0 2.9 0.9]\n",
      " [0.0 0.0 0.0 15.7 -1.6]\n",
      " [0.0 0.0 0.0 0.0 16.9]]\n"
     ]
    }
   ],
   "source": [
    "Q1,R1 = np.linalg.qr(A)\n",
    "print(Q1)\n",
    "print(R1)"
   ]
  }
 ],
 "metadata": {
  "kernelspec": {
   "display_name": ".venv",
   "language": "python",
   "name": "python3"
  },
  "language_info": {
   "codemirror_mode": {
    "name": "ipython",
    "version": 3
   },
   "file_extension": ".py",
   "mimetype": "text/x-python",
   "name": "python",
   "nbconvert_exporter": "python",
   "pygments_lexer": "ipython3",
   "version": "3.11.0"
  }
 },
 "nbformat": 4,
 "nbformat_minor": 2
}
