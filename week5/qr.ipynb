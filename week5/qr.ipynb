{
 "cells": [
  {
   "cell_type": "code",
   "execution_count": 102,
   "metadata": {},
   "outputs": [],
   "source": [
    "import numpy as np\n",
    "\n",
    "# configure formatting\n",
    "np.set_printoptions(formatter={'float': lambda x: \"{0:0.1f}\".format(x)})\n",
    "\n",
    "\n",
    "def sign(x):\n",
    "    if x >= 0:\n",
    "        return 1\n",
    "    else:\n",
    "        return -1\n",
    "\n",
    "def householder(w):\n",
    "    v = np.zeros_like(w)\n",
    "\n",
    "    v[0] = w[0] + sign(w[0]) * np.linalg.norm(w)\n",
    "    v[1:] = w[1:]\n",
    "    \n",
    "    H = np.eye(len(w)) - 2 * np.outer(v, v) / np.dot(v, v)\n",
    "    \n",
    "    return H\n",
    "\n",
    "\n",
    "def qrDecomposition(A):\n",
    "    (rows, columns) = A.shape\n",
    "    \n",
    "    R = np.copy(A)\n",
    "    Q = np.eye(rows)\n",
    "\n",
    "    for column in range(columns):\n",
    "        y = R[column:, column]\n",
    "\n",
    "        Qk = householder(y)\n",
    "        Q[column:,column:] = Q[column:,column:] * Qk\n",
    "        R[column:, column:] = Qk@R[column:,column:]\n",
    "\n",
    "    R = R[0:columns,:] # cut into needed shape\n",
    "\n",
    "    return Q, R\n",
    "\n"
   ]
  },
  {
   "cell_type": "code",
   "execution_count": 103,
   "metadata": {},
   "outputs": [
    {
     "name": "stdout",
     "output_type": "stream",
     "text": [
      "[[-0.1 -0.0 -0.0 -0.0 -0.0 -0.0 -0.0 -0.0 0.0 0.0]\n",
      " [-0.0 -0.3 0.0 0.0 0.0 0.0 0.0 0.0 0.0 -0.0]\n",
      " [-0.0 0.0 -0.4 -0.0 0.0 -0.0 -0.0 0.0 -0.0 -0.0]\n",
      " [-0.0 0.0 -0.0 -0.5 0.0 -0.0 0.0 0.0 0.0 0.0]\n",
      " [-0.0 0.0 0.0 0.0 -0.3 -0.0 -0.0 -0.0 -0.0 -0.0]\n",
      " [-0.0 0.0 -0.0 -0.0 -0.0 0.7 -0.0 -0.0 -0.0 -0.0]\n",
      " [-0.0 0.0 -0.0 0.0 -0.0 -0.0 0.4 -0.0 -0.0 -0.0]\n",
      " [-0.0 0.0 0.0 0.0 -0.0 -0.0 -0.0 0.7 -0.0 -0.0]\n",
      " [0.0 0.0 -0.0 0.0 -0.0 -0.0 -0.0 -0.0 0.7 -0.0]\n",
      " [0.0 -0.0 -0.0 0.0 -0.0 -0.0 -0.0 -0.0 -0.0 0.5]]\n",
      "[[15.8 11.8 -6.5 -0.6 -1.3]\n",
      " [-0.0 15.6 1.4 -1.8 3.1]\n",
      " [-0.0 0.0 -18.0 2.9 0.9]\n",
      " [-0.0 -0.0 0.0 15.7 -1.6]\n",
      " [-0.0 0.0 -0.0 -0.0 16.9]]\n"
     ]
    }
   ],
   "source": [
    "# example testcase\n",
    "A = np.array([  [-1,  7, -8, -9,  6],\n",
    "                [-6, -8,  0,  3,  8],\n",
    "                [-4, -2,  8,  0, -2],\n",
    "                [-1, -9,  4, -8,  2],\n",
    "                [-3, -5, -5,  7, -4],\n",
    "                [-7, -4,  7, -1,  5],\n",
    "                [-9, -7,  6, -5, -8],\n",
    "                [-4, -3, -5,  3, -6],\n",
    "                [ 5,  7,  5, -4, -5],\n",
    "                [ 4, -6, -8, -2, -5]],dtype=float)\n",
    "\n",
    "Q, R = qrDecomposition(A)\n",
    "print(Q)\n",
    "print(R)"
   ]
  },
  {
   "cell_type": "code",
   "execution_count": 104,
   "metadata": {},
   "outputs": [
    {
     "name": "stdout",
     "output_type": "stream",
     "text": [
      "[[-0.1 0.5 0.5 -0.6 0.2]\n",
      " [-0.4 -0.2 0.1 0.1 0.5]\n",
      " [-0.3 0.1 -0.3 0.1 -0.1]\n",
      " [-0.1 -0.5 -0.2 -0.5 0.2]\n",
      " [-0.2 -0.2 0.3 0.4 -0.2]\n",
      " [-0.4 0.1 -0.2 -0.0 0.3]\n",
      " [-0.6 -0.0 -0.1 -0.3 -0.5]\n",
      " [-0.3 -0.0 0.4 0.1 -0.4]\n",
      " [0.3 0.2 -0.4 -0.1 -0.3]\n",
      " [0.3 -0.6 0.3 -0.2 -0.2]]\n",
      "[[15.8 11.8 -6.5 -0.6 -1.3]\n",
      " [0.0 15.6 1.4 -1.8 3.1]\n",
      " [0.0 0.0 -18.0 2.9 0.9]\n",
      " [0.0 0.0 0.0 15.7 -1.6]\n",
      " [0.0 0.0 0.0 0.0 16.9]]\n"
     ]
    }
   ],
   "source": [
    "Q,R = np.linalg.qr(A)\n",
    "print(Q)\n",
    "print(R)"
   ]
  }
 ],
 "metadata": {
  "kernelspec": {
   "display_name": ".venv",
   "language": "python",
   "name": "python3"
  },
  "language_info": {
   "codemirror_mode": {
    "name": "ipython",
    "version": 3
   },
   "file_extension": ".py",
   "mimetype": "text/x-python",
   "name": "python",
   "nbconvert_exporter": "python",
   "pygments_lexer": "ipython3",
   "version": "3.11.0"
  }
 },
 "nbformat": 4,
 "nbformat_minor": 2
}
